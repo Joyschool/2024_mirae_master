{
  "cells": [
    {
      "cell_type": "markdown",
      "metadata": {
        "id": "view-in-github",
        "colab_type": "text"
      },
      "source": [
        "<a href=\"https://colab.research.google.com/github/Joyschool/2024_mirae_master/blob/main/1%EC%9D%BC%EC%B0%A8_%ED%8C%8C%EC%9D%B4%EC%8D%AC%EA%B8%B0%EC%B4%88%EB%8B%A4%EC%A7%80%EA%B8%B0_%EC%8B%A4%EC%8A%B5.ipynb\" target=\"_parent\"><img src=\"https://colab.research.google.com/assets/colab-badge.svg\" alt=\"Open In Colab\"/></a>"
      ]
    },
    {
      "cell_type": "markdown",
      "metadata": {
        "id": "zRxHpy-28GGG"
      },
      "source": [
        "# 1일차-파이썬 기초 다지기"
      ]
    },
    {
      "cell_type": "markdown",
      "metadata": {
        "id": "VRVM91mPB34V"
      },
      "source": [
        "## 1.파이썬 이해하기"
      ]
    },
    {
      "cell_type": "markdown",
      "metadata": {
        "id": "hOwZhukd8GGK"
      },
      "source": [
        "### 파이썬 버전 확인"
      ]
    },
    {
      "cell_type": "code",
      "source": [
        "!python --version"
      ],
      "metadata": {
        "id": "WCJ5nbOTB5ZF",
        "colab": {
          "base_uri": "https://localhost:8080/"
        },
        "outputId": "fb6d2010-3ddb-4bd0-bcfb-181da4a0e57c"
      },
      "execution_count": null,
      "outputs": [
        {
          "output_type": "stream",
          "name": "stdout",
          "text": [
            "Python 3.10.12\n"
          ]
        }
      ]
    },
    {
      "cell_type": "code",
      "source": [
        "import  sys\n",
        "print(sys.version)\n",
        "sys.version"
      ],
      "metadata": {
        "colab": {
          "base_uri": "https://localhost:8080/",
          "height": 53
        },
        "id": "OZgTTZoGxpWx",
        "outputId": "766d29fd-2040-41fa-9a50-b5c708b90982"
      },
      "execution_count": null,
      "outputs": [
        {
          "output_type": "stream",
          "name": "stdout",
          "text": [
            "3.10.12 (main, Sep 11 2024, 15:47:36) [GCC 11.4.0]\n"
          ]
        },
        {
          "output_type": "execute_result",
          "data": {
            "text/plain": [
              "'3.10.12 (main, Sep 11 2024, 15:47:36) [GCC 11.4.0]'"
            ],
            "application/vnd.google.colaboratory.intrinsic+json": {
              "type": "string"
            }
          },
          "metadata": {},
          "execution_count": 5
        }
      ]
    },
    {
      "cell_type": "markdown",
      "metadata": {
        "id": "HAFtSTG28GGL"
      },
      "source": [
        "### 파이썬 설치 위치 확인"
      ]
    },
    {
      "cell_type": "code",
      "execution_count": null,
      "metadata": {
        "id": "46cMOIHW8GGM",
        "colab": {
          "base_uri": "https://localhost:8080/"
        },
        "outputId": "8cb78d42-e2fe-46c2-87cc-b0488cdb6250"
      },
      "outputs": [
        {
          "output_type": "stream",
          "name": "stdout",
          "text": [
            "/usr/bin/python3\n"
          ]
        },
        {
          "output_type": "execute_result",
          "data": {
            "text/plain": [
              "['/content',\n",
              " '/env/python',\n",
              " '/usr/lib/python310.zip',\n",
              " '/usr/lib/python3.10',\n",
              " '/usr/lib/python3.10/lib-dynload',\n",
              " '',\n",
              " '/usr/local/lib/python3.10/dist-packages',\n",
              " '/usr/lib/python3/dist-packages',\n",
              " '/usr/local/lib/python3.10/dist-packages/IPython/extensions',\n",
              " '/usr/local/lib/python3.10/dist-packages/setuptools/_vendor',\n",
              " '/root/.ipython']"
            ]
          },
          "metadata": {},
          "execution_count": 8
        }
      ],
      "source": [
        "print(sys.executable)\n",
        "sys.path"
      ]
    },
    {
      "cell_type": "markdown",
      "metadata": {
        "id": "BVZeLUFeILol"
      },
      "source": [
        "### [실습] 파이썬 정보 확인하기\n",
        "\n",
        "\n",
        "1.   설치된 파이썬 버전 출력하기\n",
        "2.   파이썬 실행파일 위치 출력하기\n",
        "\n"
      ]
    },
    {
      "cell_type": "code",
      "execution_count": null,
      "metadata": {
        "id": "wYTlynjPIaj4"
      },
      "outputs": [],
      "source": [
        "import sys\n",
        "\n",
        "print(f'설치된 파이썬 버전: { }')\n",
        "print(f'파이썬 실행파일 위치: { }')"
      ]
    },
    {
      "cell_type": "markdown",
      "metadata": {
        "id": "KE15Fd6jCbUK"
      },
      "source": [
        "### 라이브러리 설치하기"
      ]
    },
    {
      "cell_type": "code",
      "execution_count": null,
      "metadata": {
        "id": "PlG-i1fYCbdI",
        "colab": {
          "base_uri": "https://localhost:8080/"
        },
        "outputId": "7dc789a9-a956-4399-beaa-045e47cba1d5"
      },
      "outputs": [
        {
          "output_type": "stream",
          "name": "stdout",
          "text": [
            "Requirement already satisfied: missingno in /usr/local/lib/python3.10/dist-packages (0.5.2)\n",
            "Requirement already satisfied: numpy in /usr/local/lib/python3.10/dist-packages (from missingno) (1.26.4)\n",
            "Requirement already satisfied: matplotlib in /usr/local/lib/python3.10/dist-packages (from missingno) (3.7.1)\n",
            "Requirement already satisfied: scipy in /usr/local/lib/python3.10/dist-packages (from missingno) (1.13.1)\n",
            "Requirement already satisfied: seaborn in /usr/local/lib/python3.10/dist-packages (from missingno) (0.13.2)\n",
            "Requirement already satisfied: contourpy>=1.0.1 in /usr/local/lib/python3.10/dist-packages (from matplotlib->missingno) (1.3.0)\n",
            "Requirement already satisfied: cycler>=0.10 in /usr/local/lib/python3.10/dist-packages (from matplotlib->missingno) (0.12.1)\n",
            "Requirement already satisfied: fonttools>=4.22.0 in /usr/local/lib/python3.10/dist-packages (from matplotlib->missingno) (4.54.1)\n",
            "Requirement already satisfied: kiwisolver>=1.0.1 in /usr/local/lib/python3.10/dist-packages (from matplotlib->missingno) (1.4.7)\n",
            "Requirement already satisfied: packaging>=20.0 in /usr/local/lib/python3.10/dist-packages (from matplotlib->missingno) (24.1)\n",
            "Requirement already satisfied: pillow>=6.2.0 in /usr/local/lib/python3.10/dist-packages (from matplotlib->missingno) (10.4.0)\n",
            "Requirement already satisfied: pyparsing>=2.3.1 in /usr/local/lib/python3.10/dist-packages (from matplotlib->missingno) (3.1.4)\n",
            "Requirement already satisfied: python-dateutil>=2.7 in /usr/local/lib/python3.10/dist-packages (from matplotlib->missingno) (2.8.2)\n",
            "Requirement already satisfied: pandas>=1.2 in /usr/local/lib/python3.10/dist-packages (from seaborn->missingno) (2.2.2)\n",
            "Requirement already satisfied: pytz>=2020.1 in /usr/local/lib/python3.10/dist-packages (from pandas>=1.2->seaborn->missingno) (2024.2)\n",
            "Requirement already satisfied: tzdata>=2022.7 in /usr/local/lib/python3.10/dist-packages (from pandas>=1.2->seaborn->missingno) (2024.2)\n",
            "Requirement already satisfied: six>=1.5 in /usr/local/lib/python3.10/dist-packages (from python-dateutil>=2.7->matplotlib->missingno) (1.16.0)\n"
          ]
        }
      ],
      "source": [
        "!pip install missingno"
      ]
    },
    {
      "cell_type": "markdown",
      "source": [
        "### 라이브러리 삭제하기"
      ],
      "metadata": {
        "id": "3peceTCrCuXS"
      }
    },
    {
      "cell_type": "code",
      "execution_count": null,
      "metadata": {
        "id": "CO9pIWvq8GGN",
        "scrolled": true,
        "colab": {
          "base_uri": "https://localhost:8080/"
        },
        "outputId": "35b9ee0b-ceaf-429a-a7a2-1df5decdacdd"
      },
      "outputs": [
        {
          "output_type": "stream",
          "name": "stdout",
          "text": [
            "Found existing installation: missingno 0.5.2\n",
            "Uninstalling missingno-0.5.2:\n",
            "  Would remove:\n",
            "    /usr/local/lib/python3.10/dist-packages/missingno-0.5.2.dist-info/*\n",
            "    /usr/local/lib/python3.10/dist-packages/missingno/*\n",
            "Proceed (Y/n)? Y\n",
            "  Successfully uninstalled missingno-0.5.2\n"
          ]
        }
      ],
      "source": [
        "!pip uninstall missingno"
      ]
    },
    {
      "cell_type": "markdown",
      "metadata": {
        "id": "5KtJAiS08GGO"
      },
      "source": [
        "### 설치된 라이브러리 확인(전체)"
      ]
    },
    {
      "cell_type": "code",
      "execution_count": null,
      "metadata": {
        "id": "0bsTdq6y8GGO",
        "colab": {
          "base_uri": "https://localhost:8080/"
        },
        "collapsed": true,
        "outputId": "fe19e9ac-0b63-4a16-cc7e-46dafad201c5"
      },
      "outputs": [
        {
          "output_type": "stream",
          "name": "stdout",
          "text": [
            "Package                            Version\n",
            "---------------------------------- -------------------\n",
            "absl-py                            1.4.0\n",
            "accelerate                         0.34.2\n",
            "aiohappyeyeballs                   2.4.3\n",
            "aiohttp                            3.10.9\n",
            "aiosignal                          1.3.1\n",
            "alabaster                          0.7.16\n",
            "albucore                           0.0.16\n",
            "albumentations                     1.4.15\n",
            "altair                             4.2.2\n",
            "annotated-types                    0.7.0\n",
            "anyio                              3.7.1\n",
            "argon2-cffi                        23.1.0\n",
            "argon2-cffi-bindings               21.2.0\n",
            "array_record                       0.5.1\n",
            "arviz                              0.19.0\n",
            "astropy                            6.1.4\n",
            "astropy-iers-data                  0.2024.10.7.0.32.46\n",
            "astunparse                         1.6.3\n",
            "async-timeout                      4.0.3\n",
            "atpublic                           4.1.0\n",
            "attrs                              24.2.0\n",
            "audioread                          3.0.1\n",
            "autograd                           1.7.0\n",
            "babel                              2.16.0\n",
            "backcall                           0.2.0\n",
            "beautifulsoup4                     4.12.3\n",
            "bigframes                          1.21.0\n",
            "bigquery-magics                    0.4.0\n",
            "bleach                             6.1.0\n",
            "blinker                            1.4\n",
            "blis                               0.7.11\n",
            "blosc2                             2.0.0\n",
            "bokeh                              3.4.3\n",
            "Bottleneck                         1.4.0\n",
            "bqplot                             0.12.43\n",
            "branca                             0.8.0\n",
            "build                              1.2.2.post1\n",
            "CacheControl                       0.14.0\n",
            "cachetools                         5.5.0\n",
            "catalogue                          2.0.10\n",
            "certifi                            2024.8.30\n",
            "cffi                               1.17.1\n",
            "chardet                            5.2.0\n",
            "charset-normalizer                 3.3.2\n",
            "chex                               0.1.87\n",
            "clarabel                           0.9.0\n",
            "click                              8.1.7\n",
            "cloudpathlib                       0.19.0\n",
            "cloudpickle                        2.2.1\n",
            "cmake                              3.30.4\n",
            "cmdstanpy                          1.2.4\n",
            "colorcet                           3.1.0\n",
            "colorlover                         0.3.0\n",
            "colour                             0.1.5\n",
            "community                          1.0.0b1\n",
            "confection                         0.1.5\n",
            "cons                               0.4.6\n",
            "contextlib2                        21.6.0\n",
            "contourpy                          1.3.0\n",
            "cryptography                       43.0.1\n",
            "cuda-python                        12.2.1\n",
            "cudf-cu12                          24.6.1\n",
            "cufflinks                          0.17.3\n",
            "cupy-cuda12x                       12.2.0\n",
            "cvxopt                             1.3.2\n",
            "cvxpy                              1.5.3\n",
            "cycler                             0.12.1\n",
            "cymem                              2.0.8\n",
            "Cython                             3.0.11\n",
            "dask                               2024.8.0\n",
            "datascience                        0.17.6\n",
            "db-dtypes                          1.3.0\n",
            "dbus-python                        1.2.18\n",
            "debugpy                            1.6.6\n",
            "decorator                          4.4.2\n",
            "defusedxml                         0.7.1\n",
            "Deprecated                         1.2.14\n",
            "distributed                        2024.8.0\n",
            "distro                             1.7.0\n",
            "dlib                               19.24.2\n",
            "dm-tree                            0.1.8\n",
            "docstring_parser                   0.16\n",
            "docutils                           0.18.1\n",
            "dopamine_rl                        4.0.9\n",
            "duckdb                             1.1.1\n",
            "earthengine-api                    1.0.0\n",
            "easydict                           1.13\n",
            "ecos                               2.0.14\n",
            "editdistance                       0.8.1\n",
            "eerepr                             0.0.4\n",
            "einops                             0.8.0\n",
            "en-core-web-sm                     3.7.1\n",
            "entrypoints                        0.4\n",
            "et-xmlfile                         1.1.0\n",
            "etils                              1.9.4\n",
            "etuples                            0.3.9\n",
            "eval_type_backport                 0.2.0\n",
            "exceptiongroup                     1.2.2\n",
            "fastai                             2.7.17\n",
            "fastcore                           1.7.11\n",
            "fastdownload                       0.0.7\n",
            "fastjsonschema                     2.20.0\n",
            "fastprogress                       1.0.3\n",
            "fastrlock                          0.8.2\n",
            "filelock                           3.16.1\n",
            "firebase-admin                     6.5.0\n",
            "Flask                              2.2.5\n",
            "flatbuffers                        24.3.25\n",
            "flax                               0.8.5\n",
            "folium                             0.17.0\n",
            "fonttools                          4.54.1\n",
            "frozendict                         2.4.5\n",
            "frozenlist                         1.4.1\n",
            "fsspec                             2024.6.1\n",
            "future                             1.0.0\n",
            "gast                               0.6.0\n",
            "gcsfs                              2024.6.1\n",
            "GDAL                               3.6.4\n",
            "gdown                              5.2.0\n",
            "geemap                             0.34.5\n",
            "gensim                             4.3.3\n",
            "geocoder                           1.38.1\n",
            "geographiclib                      2.0\n",
            "geopandas                          1.0.1\n",
            "geopy                              2.4.1\n",
            "gin-config                         0.5.0\n",
            "glob2                              0.7\n",
            "google                             2.0.3\n",
            "google-ai-generativelanguage       0.6.6\n",
            "google-api-core                    2.19.2\n",
            "google-api-python-client           2.137.0\n",
            "google-auth                        2.27.0\n",
            "google-auth-httplib2               0.2.0\n",
            "google-auth-oauthlib               1.2.1\n",
            "google-cloud-aiplatform            1.69.0\n",
            "google-cloud-bigquery              3.25.0\n",
            "google-cloud-bigquery-connection   1.15.5\n",
            "google-cloud-bigquery-storage      2.26.0\n",
            "google-cloud-bigtable              2.26.0\n",
            "google-cloud-core                  2.4.1\n",
            "google-cloud-datastore             2.19.0\n",
            "google-cloud-firestore             2.16.1\n",
            "google-cloud-functions             1.16.5\n",
            "google-cloud-iam                   2.15.2\n",
            "google-cloud-language              2.13.4\n",
            "google-cloud-pubsub                2.25.2\n",
            "google-cloud-resource-manager      1.12.5\n",
            "google-cloud-storage               2.8.0\n",
            "google-cloud-translate             3.15.5\n",
            "google-colab                       1.0.0\n",
            "google-crc32c                      1.6.0\n",
            "google-generativeai                0.7.2\n",
            "google-pasta                       0.2.0\n",
            "google-resumable-media             2.7.2\n",
            "googleapis-common-protos           1.65.0\n",
            "googledrivedownloader              0.4\n",
            "graphviz                           0.20.3\n",
            "greenlet                           3.1.1\n",
            "grpc-google-iam-v1                 0.13.1\n",
            "grpcio                             1.64.1\n",
            "grpcio-status                      1.48.2\n",
            "gspread                            6.0.2\n",
            "gspread-dataframe                  3.3.1\n",
            "gym                                0.25.2\n",
            "gym-notices                        0.0.8\n",
            "h5netcdf                           1.4.0\n",
            "h5py                               3.11.0\n",
            "holidays                           0.57\n",
            "holoviews                          1.19.1\n",
            "html5lib                           1.1\n",
            "httpimport                         1.4.0\n",
            "httplib2                           0.22.0\n",
            "huggingface-hub                    0.24.7\n",
            "humanize                           4.10.0\n",
            "hyperopt                           0.2.7\n",
            "ibis-framework                     9.2.0\n",
            "idna                               3.10\n",
            "imageio                            2.35.1\n",
            "imageio-ffmpeg                     0.5.1\n",
            "imagesize                          1.4.1\n",
            "imbalanced-learn                   0.12.4\n",
            "imgaug                             0.4.0\n",
            "immutabledict                      4.2.0\n",
            "importlib_metadata                 8.4.0\n",
            "importlib_resources                6.4.5\n",
            "imutils                            0.5.4\n",
            "inflect                            7.4.0\n",
            "iniconfig                          2.0.0\n",
            "intel-cmplr-lib-ur                 2024.2.1\n",
            "intel-openmp                       2024.2.1\n",
            "ipyevents                          2.0.2\n",
            "ipyfilechooser                     0.6.0\n",
            "ipykernel                          5.5.6\n",
            "ipyleaflet                         0.19.2\n",
            "ipyparallel                        8.8.0\n",
            "ipython                            7.34.0\n",
            "ipython-genutils                   0.2.0\n",
            "ipython-sql                        0.5.0\n",
            "ipytree                            0.2.2\n",
            "ipywidgets                         7.7.1\n",
            "itsdangerous                       2.2.0\n",
            "jax                                0.4.33\n",
            "jax-cuda12-pjrt                    0.4.33\n",
            "jax-cuda12-plugin                  0.4.33\n",
            "jaxlib                             0.4.33\n",
            "jeepney                            0.7.1\n",
            "jellyfish                          1.1.0\n",
            "jieba                              0.42.1\n",
            "Jinja2                             3.1.4\n",
            "joblib                             1.4.2\n",
            "jsonpickle                         3.3.0\n",
            "jsonschema                         4.23.0\n",
            "jsonschema-specifications          2023.12.1\n",
            "jupyter-client                     6.1.12\n",
            "jupyter-console                    6.1.0\n",
            "jupyter_core                       5.7.2\n",
            "jupyter-leaflet                    0.19.2\n",
            "jupyter-server                     1.24.0\n",
            "jupyterlab_pygments                0.3.0\n",
            "jupyterlab_widgets                 3.0.13\n",
            "kaggle                             1.6.17\n",
            "kagglehub                          0.3.1\n",
            "keras                              3.4.1\n",
            "keyring                            23.5.0\n",
            "kiwisolver                         1.4.7\n",
            "langcodes                          3.4.1\n",
            "language_data                      1.2.0\n",
            "launchpadlib                       1.10.16\n",
            "lazr.restfulclient                 0.14.4\n",
            "lazr.uri                           1.0.6\n",
            "lazy_loader                        0.4\n",
            "libclang                           18.1.1\n",
            "librosa                            0.10.2.post1\n",
            "lightgbm                           4.5.0\n",
            "linkify-it-py                      2.0.3\n",
            "llvmlite                           0.43.0\n",
            "locket                             1.0.0\n",
            "logical-unification                0.4.6\n",
            "lxml                               4.9.4\n",
            "marisa-trie                        1.2.0\n",
            "Markdown                           3.7\n",
            "markdown-it-py                     3.0.0\n",
            "MarkupSafe                         2.1.5\n",
            "matplotlib                         3.7.1\n",
            "matplotlib-inline                  0.1.7\n",
            "matplotlib-venn                    1.1.1\n",
            "mdit-py-plugins                    0.4.2\n",
            "mdurl                              0.1.2\n",
            "miniKanren                         1.0.3\n",
            "mistune                            0.8.4\n",
            "mizani                             0.11.4\n",
            "mkl                                2024.2.2\n",
            "ml-dtypes                          0.4.1\n",
            "mlxtend                            0.23.1\n",
            "more-itertools                     10.5.0\n",
            "moviepy                            1.0.3\n",
            "mpmath                             1.3.0\n",
            "msgpack                            1.0.8\n",
            "multidict                          6.1.0\n",
            "multipledispatch                   1.0.0\n",
            "multitasking                       0.0.11\n",
            "murmurhash                         1.0.10\n",
            "music21                            9.1.0\n",
            "namex                              0.0.8\n",
            "natsort                            8.4.0\n",
            "nbclassic                          1.1.0\n",
            "nbclient                           0.10.0\n",
            "nbconvert                          6.5.4\n",
            "nbformat                           5.10.4\n",
            "nest-asyncio                       1.6.0\n",
            "networkx                           3.3\n",
            "nibabel                            5.2.1\n",
            "nltk                               3.8.1\n",
            "notebook                           6.5.5\n",
            "notebook_shim                      0.2.4\n",
            "numba                              0.60.0\n",
            "numexpr                            2.10.1\n",
            "numpy                              1.26.4\n",
            "nvidia-cublas-cu12                 12.6.3.3\n",
            "nvidia-cuda-cupti-cu12             12.6.80\n",
            "nvidia-cuda-nvcc-cu12              12.6.77\n",
            "nvidia-cuda-runtime-cu12           12.6.77\n",
            "nvidia-cudnn-cu12                  9.4.0.58\n",
            "nvidia-cufft-cu12                  11.3.0.4\n",
            "nvidia-cusolver-cu12               11.7.1.2\n",
            "nvidia-cusparse-cu12               12.5.4.2\n",
            "nvidia-nccl-cu12                   2.23.4\n",
            "nvidia-nvjitlink-cu12              12.6.77\n",
            "nvtx                               0.2.10\n",
            "oauth2client                       4.1.3\n",
            "oauthlib                           3.2.2\n",
            "opencv-contrib-python              4.10.0.84\n",
            "opencv-python                      4.10.0.84\n",
            "opencv-python-headless             4.10.0.84\n",
            "openpyxl                           3.1.5\n",
            "opentelemetry-api                  1.27.0\n",
            "opentelemetry-sdk                  1.27.0\n",
            "opentelemetry-semantic-conventions 0.48b0\n",
            "opt_einsum                         3.4.0\n",
            "optax                              0.2.3\n",
            "optree                             0.13.0\n",
            "orbax-checkpoint                   0.6.4\n",
            "osqp                               0.6.7.post0\n",
            "packaging                          24.1\n",
            "pandas                             2.2.2\n",
            "pandas-datareader                  0.10.0\n",
            "pandas-gbq                         0.23.2\n",
            "pandas-stubs                       2.2.2.240909\n",
            "pandocfilters                      1.5.1\n",
            "panel                              1.4.5\n",
            "param                              2.1.1\n",
            "parso                              0.8.4\n",
            "parsy                              2.1\n",
            "partd                              1.4.2\n",
            "pathlib                            1.0.1\n",
            "patsy                              0.5.6\n",
            "peewee                             3.17.6\n",
            "pexpect                            4.9.0\n",
            "pickleshare                        0.7.5\n",
            "pillow                             10.4.0\n",
            "pip                                24.1.2\n",
            "pip-tools                          7.4.1\n",
            "platformdirs                       4.3.6\n",
            "plotly                             5.24.1\n",
            "plotnine                           0.13.6\n",
            "pluggy                             1.5.0\n",
            "polars                             1.7.1\n",
            "pooch                              1.8.2\n",
            "portpicker                         1.5.2\n",
            "prefetch_generator                 1.0.3\n",
            "preshed                            3.0.9\n",
            "prettytable                        3.11.0\n",
            "proglog                            0.1.10\n",
            "progressbar2                       4.5.0\n",
            "prometheus_client                  0.21.0\n",
            "promise                            2.3\n",
            "prompt_toolkit                     3.0.48\n",
            "prophet                            1.1.6\n",
            "proto-plus                         1.24.0\n",
            "protobuf                           3.20.3\n",
            "psutil                             5.9.5\n",
            "psycopg2                           2.9.9\n",
            "ptyprocess                         0.7.0\n",
            "py-cpuinfo                         9.0.0\n",
            "py4j                               0.10.9.7\n",
            "pyarrow                            16.1.0\n",
            "pyarrow-hotfix                     0.6\n",
            "pyasn1                             0.6.1\n",
            "pyasn1_modules                     0.4.1\n",
            "pycocotools                        2.0.8\n",
            "pycparser                          2.22\n",
            "pydantic                           2.9.2\n",
            "pydantic_core                      2.23.4\n",
            "pydata-google-auth                 1.8.2\n",
            "pydot                              3.0.2\n",
            "pydot-ng                           2.0.0\n",
            "pydotplus                          2.0.2\n",
            "PyDrive                            1.3.1\n",
            "PyDrive2                           1.20.0\n",
            "pyerfa                             2.0.1.4\n",
            "pygame                             2.6.1\n",
            "Pygments                           2.18.0\n",
            "PyGObject                          3.42.1\n",
            "PyJWT                              2.9.0\n",
            "pymc                               5.16.2\n",
            "pymystem3                          0.2.0\n",
            "pynvjitlink-cu12                   0.3.0\n",
            "pyogrio                            0.10.0\n",
            "PyOpenGL                           3.1.7\n",
            "pyOpenSSL                          24.2.1\n",
            "pyparsing                          3.1.4\n",
            "pyperclip                          1.9.0\n",
            "pyproj                             3.7.0\n",
            "pyproject_hooks                    1.2.0\n",
            "pyshp                              2.3.1\n",
            "PySocks                            1.7.1\n",
            "pytensor                           2.25.5\n",
            "pytest                             7.4.4\n",
            "python-apt                         0.0.0\n",
            "python-box                         7.2.0\n",
            "python-dateutil                    2.8.2\n",
            "python-louvain                     0.16\n",
            "python-slugify                     8.0.4\n",
            "python-utils                       3.9.0\n",
            "pytz                               2024.2\n",
            "pyviz_comms                        3.0.3\n",
            "PyYAML                             6.0.2\n",
            "pyzmq                              24.0.1\n",
            "qdldl                              0.1.7.post4\n",
            "ratelim                            0.1.6\n",
            "referencing                        0.35.1\n",
            "regex                              2024.9.11\n",
            "requests                           2.32.3\n",
            "requests-oauthlib                  1.3.1\n",
            "requirements-parser                0.9.0\n",
            "rich                               13.9.2\n",
            "rmm-cu12                           24.6.0\n",
            "rpds-py                            0.20.0\n",
            "rpy2                               3.4.2\n",
            "rsa                                4.9\n",
            "safetensors                        0.4.5\n",
            "scikit-image                       0.24.0\n",
            "scikit-learn                       1.5.2\n",
            "scipy                              1.13.1\n",
            "scooby                             0.10.0\n",
            "scs                                3.2.7\n",
            "seaborn                            0.13.2\n",
            "SecretStorage                      3.3.1\n",
            "Send2Trash                         1.8.3\n",
            "sentencepiece                      0.2.0\n",
            "setuptools                         71.0.4\n",
            "shapely                            2.0.6\n",
            "shellingham                        1.5.4\n",
            "simple-parsing                     0.1.6\n",
            "six                                1.16.0\n",
            "sklearn-pandas                     2.2.0\n",
            "smart-open                         7.0.5\n",
            "sniffio                            1.3.1\n",
            "snowballstemmer                    2.2.0\n",
            "sortedcontainers                   2.4.0\n",
            "soundfile                          0.12.1\n",
            "soupsieve                          2.6\n",
            "soxr                               0.5.0.post1\n",
            "spacy                              3.7.5\n",
            "spacy-legacy                       3.0.12\n",
            "spacy-loggers                      1.0.5\n",
            "Sphinx                             5.0.2\n",
            "sphinxcontrib-applehelp            2.0.0\n",
            "sphinxcontrib-devhelp              2.0.0\n",
            "sphinxcontrib-htmlhelp             2.1.0\n",
            "sphinxcontrib-jsmath               1.0.1\n",
            "sphinxcontrib-qthelp               2.0.0\n",
            "sphinxcontrib-serializinghtml      2.0.0\n",
            "SQLAlchemy                         2.0.35\n",
            "sqlglot                            25.1.0\n",
            "sqlparse                           0.5.1\n",
            "srsly                              2.4.8\n",
            "stanio                             0.5.1\n",
            "statsmodels                        0.14.4\n",
            "StrEnum                            0.4.15\n",
            "sympy                              1.13.3\n",
            "tables                             3.8.0\n",
            "tabulate                           0.9.0\n",
            "tbb                                2021.13.1\n",
            "tblib                              3.0.0\n",
            "tenacity                           9.0.0\n",
            "tensorboard                        2.17.0\n",
            "tensorboard-data-server            0.7.2\n",
            "tensorflow                         2.17.0\n",
            "tensorflow-datasets                4.9.6\n",
            "tensorflow-hub                     0.16.1\n",
            "tensorflow-io-gcs-filesystem       0.37.1\n",
            "tensorflow-metadata                1.16.0\n",
            "tensorflow-probability             0.24.0\n",
            "tensorstore                        0.1.66\n",
            "termcolor                          2.5.0\n",
            "terminado                          0.18.1\n",
            "text-unidecode                     1.3\n",
            "textblob                           0.17.1\n",
            "tf_keras                           2.17.0\n",
            "tf-slim                            1.1.0\n",
            "thinc                              8.2.5\n",
            "threadpoolctl                      3.5.0\n",
            "tifffile                           2024.9.20\n",
            "tinycss2                           1.3.0\n",
            "tokenizers                         0.19.1\n",
            "toml                               0.10.2\n",
            "tomli                              2.0.2\n",
            "toolz                              0.12.1\n",
            "torch                              2.4.1+cu121\n",
            "torchaudio                         2.4.1+cu121\n",
            "torchsummary                       1.5.1\n",
            "torchvision                        0.19.1+cu121\n",
            "tornado                            6.3.3\n",
            "tqdm                               4.66.5\n",
            "traitlets                          5.7.1\n",
            "traittypes                         0.2.1\n",
            "transformers                       4.44.2\n",
            "tweepy                             4.14.0\n",
            "typeguard                          4.3.0\n",
            "typer                              0.12.5\n",
            "types-pytz                         2024.2.0.20241003\n",
            "types-setuptools                   75.1.0.20240917\n",
            "typing_extensions                  4.12.2\n",
            "tzdata                             2024.2\n",
            "tzlocal                            5.2\n",
            "uc-micro-py                        1.0.3\n",
            "uritemplate                        4.1.1\n",
            "urllib3                            2.2.3\n",
            "vega-datasets                      0.9.0\n",
            "wadllib                            1.3.6\n",
            "wasabi                             1.1.3\n",
            "wcwidth                            0.2.13\n",
            "weasel                             0.4.1\n",
            "webcolors                          24.8.0\n",
            "webencodings                       0.5.1\n",
            "websocket-client                   1.8.0\n",
            "Werkzeug                           3.0.4\n",
            "wheel                              0.44.0\n",
            "widgetsnbextension                 3.6.9\n",
            "wordcloud                          1.9.3\n",
            "wrapt                              1.16.0\n",
            "xarray                             2024.9.0\n",
            "xarray-einstats                    0.8.0\n",
            "xgboost                            2.1.1\n",
            "xlrd                               2.0.1\n",
            "xyzservices                        2024.9.0\n",
            "yarl                               1.13.1\n",
            "yellowbrick                        1.5\n",
            "yfinance                           0.2.44\n",
            "zict                               3.0.0\n",
            "zipp                               3.20.2\n"
          ]
        }
      ],
      "source": [
        "!pip list"
      ]
    },
    {
      "cell_type": "markdown",
      "metadata": {
        "id": "G_IjDeFh8GGP"
      },
      "source": [
        "### 설치된 라이브러리 확인(특정 라이브러리)"
      ]
    },
    {
      "cell_type": "code",
      "execution_count": null,
      "metadata": {
        "id": "TqvE9YpV8GGP",
        "colab": {
          "base_uri": "https://localhost:8080/"
        },
        "collapsed": true,
        "outputId": "e33d2f28-a68c-4225-ac28-0a7a1847c8bf"
      },
      "outputs": [
        {
          "output_type": "stream",
          "name": "stdout",
          "text": [
            "Name: numpy\n",
            "Version: 1.26.4\n",
            "Summary: Fundamental package for array computing in Python\n",
            "Home-page: https://numpy.org\n",
            "Author: Travis E. Oliphant et al.\n",
            "Author-email: \n",
            "License: Copyright (c) 2005-2023, NumPy Developers.\n",
            "        All rights reserved.\n",
            "        \n",
            "        Redistribution and use in source and binary forms, with or without\n",
            "        modification, are permitted provided that the following conditions are\n",
            "        met:\n",
            "        \n",
            "            * Redistributions of source code must retain the above copyright\n",
            "               notice, this list of conditions and the following disclaimer.\n",
            "        \n",
            "            * Redistributions in binary form must reproduce the above\n",
            "               copyright notice, this list of conditions and the following\n",
            "               disclaimer in the documentation and/or other materials provided\n",
            "               with the distribution.\n",
            "        \n",
            "            * Neither the name of the NumPy Developers nor the names of any\n",
            "               contributors may be used to endorse or promote products derived\n",
            "               from this software without specific prior written permission.\n",
            "        \n",
            "        THIS SOFTWARE IS PROVIDED BY THE COPYRIGHT HOLDERS AND CONTRIBUTORS\n",
            "        \"AS IS\" AND ANY EXPRESS OR IMPLIED WARRANTIES, INCLUDING, BUT NOT\n",
            "        LIMITED TO, THE IMPLIED WARRANTIES OF MERCHANTABILITY AND FITNESS FOR\n",
            "        A PARTICULAR PURPOSE ARE DISCLAIMED. IN NO EVENT SHALL THE COPYRIGHT\n",
            "        OWNER OR CONTRIBUTORS BE LIABLE FOR ANY DIRECT, INDIRECT, INCIDENTAL,\n",
            "        SPECIAL, EXEMPLARY, OR CONSEQUENTIAL DAMAGES (INCLUDING, BUT NOT\n",
            "        LIMITED TO, PROCUREMENT OF SUBSTITUTE GOODS OR SERVICES; LOSS OF USE,\n",
            "        DATA, OR PROFITS; OR BUSINESS INTERRUPTION) HOWEVER CAUSED AND ON ANY\n",
            "        THEORY OF LIABILITY, WHETHER IN CONTRACT, STRICT LIABILITY, OR TORT\n",
            "        (INCLUDING NEGLIGENCE OR OTHERWISE) ARISING IN ANY WAY OUT OF THE USE\n",
            "        OF THIS SOFTWARE, EVEN IF ADVISED OF THE POSSIBILITY OF SUCH DAMAGE.\n",
            "        \n",
            "        ----\n",
            "        \n",
            "        The NumPy repository and source distributions bundle several libraries that are\n",
            "        compatibly licensed.  We list these here.\n",
            "        \n",
            "        Name: lapack-lite\n",
            "        Files: numpy/linalg/lapack_lite/*\n",
            "        License: BSD-3-Clause\n",
            "          For details, see numpy/linalg/lapack_lite/LICENSE.txt\n",
            "        \n",
            "        Name: tempita\n",
            "        Files: tools/npy_tempita/*\n",
            "        License: MIT\n",
            "          For details, see tools/npy_tempita/license.txt\n",
            "        \n",
            "        Name: dragon4\n",
            "        Files: numpy/core/src/multiarray/dragon4.c\n",
            "        License: MIT\n",
            "          For license text, see numpy/core/src/multiarray/dragon4.c\n",
            "        \n",
            "        Name: libdivide\n",
            "        Files: numpy/core/include/numpy/libdivide/*\n",
            "        License: Zlib\n",
            "          For license text, see numpy/core/include/numpy/libdivide/LICENSE.txt\n",
            "        \n",
            "        \n",
            "        Note that the following files are vendored in the repository and sdist but not\n",
            "        installed in built numpy packages:\n",
            "        \n",
            "        Name: Meson\n",
            "        Files: vendored-meson/meson/*\n",
            "        License: Apache 2.0\n",
            "          For license text, see vendored-meson/meson/COPYING\n",
            "        \n",
            "        Name: spin\n",
            "        Files: .spin/cmds.py\n",
            "        License: BSD-3\n",
            "          For license text, see .spin/LICENSE\n",
            "        \n",
            "        ----\n",
            "        \n",
            "        This binary distribution of NumPy also bundles the following software:\n",
            "        \n",
            "        \n",
            "        Name: OpenBLAS\n",
            "        Files: numpy.libs/libopenblas*.so\n",
            "        Description: bundled as a dynamically linked library\n",
            "        Availability: https://github.com/OpenMathLib/OpenBLAS/\n",
            "        License: BSD-3-Clause\n",
            "          Copyright (c) 2011-2014, The OpenBLAS Project\n",
            "          All rights reserved.\n",
            "        \n",
            "          Redistribution and use in source and binary forms, with or without\n",
            "          modification, are permitted provided that the following conditions are\n",
            "          met:\n",
            "        \n",
            "             1. Redistributions of source code must retain the above copyright\n",
            "                notice, this list of conditions and the following disclaimer.\n",
            "        \n",
            "             2. Redistributions in binary form must reproduce the above copyright\n",
            "                notice, this list of conditions and the following disclaimer in\n",
            "                the documentation and/or other materials provided with the\n",
            "                distribution.\n",
            "             3. Neither the name of the OpenBLAS project nor the names of\n",
            "                its contributors may be used to endorse or promote products\n",
            "                derived from this software without specific prior written\n",
            "                permission.\n",
            "        \n",
            "          THIS SOFTWARE IS PROVIDED BY THE COPYRIGHT HOLDERS AND CONTRIBUTORS \"AS IS\"\n",
            "          AND ANY EXPRESS OR IMPLIED WARRANTIES, INCLUDING, BUT NOT LIMITED TO, THE\n",
            "          IMPLIED WARRANTIES OF MERCHANTABILITY AND FITNESS FOR A PARTICULAR PURPOSE\n",
            "          ARE DISCLAIMED. IN NO EVENT SHALL THE COPYRIGHT OWNER OR CONTRIBUTORS BE\n",
            "          LIABLE FOR ANY DIRECT, INDIRECT, INCIDENTAL, SPECIAL, EXEMPLARY, OR CONSEQUENTIAL\n",
            "          DAMAGES (INCLUDING, BUT NOT LIMITED TO, PROCUREMENT OF SUBSTITUTE GOODS OR\n",
            "          SERVICES; LOSS OF USE, DATA, OR PROFITS; OR BUSINESS INTERRUPTION) HOWEVER\n",
            "          CAUSED AND ON ANY THEORY OF LIABILITY, WHETHER IN CONTRACT, STRICT LIABILITY,\n",
            "          OR TORT (INCLUDING NEGLIGENCE OR OTHERWISE) ARISING IN ANY WAY OUT OF THE\n",
            "          USE OF THIS SOFTWARE, EVEN IF ADVISED OF THE POSSIBILITY OF SUCH DAMAGE.\n",
            "        \n",
            "        \n",
            "        Name: LAPACK\n",
            "        Files: numpy.libs/libopenblas*.so\n",
            "        Description: bundled in OpenBLAS\n",
            "        Availability: https://github.com/OpenMathLib/OpenBLAS/\n",
            "        License: BSD-3-Clause-Attribution\n",
            "          Copyright (c) 1992-2013 The University of Tennessee and The University\n",
            "                                  of Tennessee Research Foundation.  All rights\n",
            "                                  reserved.\n",
            "          Copyright (c) 2000-2013 The University of California Berkeley. All\n",
            "                                  rights reserved.\n",
            "          Copyright (c) 2006-2013 The University of Colorado Denver.  All rights\n",
            "                                  reserved.\n",
            "        \n",
            "          $COPYRIGHT$\n",
            "        \n",
            "          Additional copyrights may follow\n",
            "        \n",
            "          $HEADER$\n",
            "        \n",
            "          Redistribution and use in source and binary forms, with or without\n",
            "          modification, are permitted provided that the following conditions are\n",
            "          met:\n",
            "        \n",
            "          - Redistributions of source code must retain the above copyright\n",
            "            notice, this list of conditions and the following disclaimer.\n",
            "        \n",
            "          - Redistributions in binary form must reproduce the above copyright\n",
            "            notice, this list of conditions and the following disclaimer listed\n",
            "            in this license in the documentation and/or other materials\n",
            "            provided with the distribution.\n",
            "        \n",
            "          - Neither the name of the copyright holders nor the names of its\n",
            "            contributors may be used to endorse or promote products derived from\n",
            "            this software without specific prior written permission.\n",
            "        \n",
            "          The copyright holders provide no reassurances that the source code\n",
            "          provided does not infringe any patent, copyright, or any other\n",
            "          intellectual property rights of third parties.  The copyright holders\n",
            "          disclaim any liability to any recipient for claims brought against\n",
            "          recipient by any third party for infringement of that parties\n",
            "          intellectual property rights.\n",
            "        \n",
            "          THIS SOFTWARE IS PROVIDED BY THE COPYRIGHT HOLDERS AND CONTRIBUTORS\n",
            "          \"AS IS\" AND ANY EXPRESS OR IMPLIED WARRANTIES, INCLUDING, BUT NOT\n",
            "          LIMITED TO, THE IMPLIED WARRANTIES OF MERCHANTABILITY AND FITNESS FOR\n",
            "          A PARTICULAR PURPOSE ARE DISCLAIMED. IN NO EVENT SHALL THE COPYRIGHT\n",
            "          OWNER OR CONTRIBUTORS BE LIABLE FOR ANY DIRECT, INDIRECT, INCIDENTAL,\n",
            "          SPECIAL, EXEMPLARY, OR CONSEQUENTIAL DAMAGES (INCLUDING, BUT NOT\n",
            "          LIMITED TO, PROCUREMENT OF SUBSTITUTE GOODS OR SERVICES; LOSS OF USE,\n",
            "          DATA, OR PROFITS; OR BUSINESS INTERRUPTION) HOWEVER CAUSED AND ON ANY\n",
            "          THEORY OF LIABILITY, WHETHER IN CONTRACT, STRICT LIABILITY, OR TORT\n",
            "          (INCLUDING NEGLIGENCE OR OTHERWISE) ARISING IN ANY WAY OUT OF THE USE\n",
            "          OF THIS SOFTWARE, EVEN IF ADVISED OF THE POSSIBILITY OF SUCH DAMAGE.\n",
            "        \n",
            "        \n",
            "        Name: GCC runtime library\n",
            "        Files: numpy.libs/libgfortran*.so\n",
            "        Description: dynamically linked to files compiled with gcc\n",
            "        Availability: https://gcc.gnu.org/git/?p=gcc.git;a=tree;f=libgfortran\n",
            "        License: GPL-3.0-with-GCC-exception\n",
            "          Copyright (C) 2002-2017 Free Software Foundation, Inc.\n",
            "        \n",
            "          Libgfortran is free software; you can redistribute it and/or modify\n",
            "          it under the terms of the GNU General Public License as published by\n",
            "          the Free Software Foundation; either version 3, or (at your option)\n",
            "          any later version.\n",
            "        \n",
            "          Libgfortran is distributed in the hope that it will be useful,\n",
            "          but WITHOUT ANY WARRANTY; without even the implied warranty of\n",
            "          MERCHANTABILITY or FITNESS FOR A PARTICULAR PURPOSE.  See the\n",
            "          GNU General Public License for more details.\n",
            "        \n",
            "          Under Section 7 of GPL version 3, you are granted additional\n",
            "          permissions described in the GCC Runtime Library Exception, version\n",
            "          3.1, as published by the Free Software Foundation.\n",
            "        \n",
            "          You should have received a copy of the GNU General Public License and\n",
            "          a copy of the GCC Runtime Library Exception along with this program;\n",
            "          see the files COPYING3 and COPYING.RUNTIME respectively.  If not, see\n",
            "          <http://www.gnu.org/licenses/>.\n",
            "        \n",
            "        ----\n",
            "        \n",
            "        Full text of license texts referred to above follows (that they are\n",
            "        listed below does not necessarily imply the conditions apply to the\n",
            "        present binary release):\n",
            "        \n",
            "        ----\n",
            "        \n",
            "        GCC RUNTIME LIBRARY EXCEPTION\n",
            "        \n",
            "        Version 3.1, 31 March 2009\n",
            "        \n",
            "        Copyright (C) 2009 Free Software Foundation, Inc. <http://fsf.org/>\n",
            "        \n",
            "        Everyone is permitted to copy and distribute verbatim copies of this\n",
            "        license document, but changing it is not allowed.\n",
            "        \n",
            "        This GCC Runtime Library Exception (\"Exception\") is an additional\n",
            "        permission under section 7 of the GNU General Public License, version\n",
            "        3 (\"GPLv3\"). It applies to a given file (the \"Runtime Library\") that\n",
            "        bears a notice placed by the copyright holder of the file stating that\n",
            "        the file is governed by GPLv3 along with this Exception.\n",
            "        \n",
            "        When you use GCC to compile a program, GCC may combine portions of\n",
            "        certain GCC header files and runtime libraries with the compiled\n",
            "        program. The purpose of this Exception is to allow compilation of\n",
            "        non-GPL (including proprietary) programs to use, in this way, the\n",
            "        header files and runtime libraries covered by this Exception.\n",
            "        \n",
            "        0. Definitions.\n",
            "        \n",
            "        A file is an \"Independent Module\" if it either requires the Runtime\n",
            "        Library for execution after a Compilation Process, or makes use of an\n",
            "        interface provided by the Runtime Library, but is not otherwise based\n",
            "        on the Runtime Library.\n",
            "        \n",
            "        \"GCC\" means a version of the GNU Compiler Collection, with or without\n",
            "        modifications, governed by version 3 (or a specified later version) of\n",
            "        the GNU General Public License (GPL) with the option of using any\n",
            "        subsequent versions published by the FSF.\n",
            "        \n",
            "        \"GPL-compatible Software\" is software whose conditions of propagation,\n",
            "        modification and use would permit combination with GCC in accord with\n",
            "        the license of GCC.\n",
            "        \n",
            "        \"Target Code\" refers to output from any compiler for a real or virtual\n",
            "        target processor architecture, in executable form or suitable for\n",
            "        input to an assembler, loader, linker and/or execution\n",
            "        phase. Notwithstanding that, Target Code does not include data in any\n",
            "        format that is used as a compiler intermediate representation, or used\n",
            "        for producing a compiler intermediate representation.\n",
            "        \n",
            "        The \"Compilation Process\" transforms code entirely represented in\n",
            "        non-intermediate languages designed for human-written code, and/or in\n",
            "        Java Virtual Machine byte code, into Target Code. Thus, for example,\n",
            "        use of source code generators and preprocessors need not be considered\n",
            "        part of the Compilation Process, since the Compilation Process can be\n",
            "        understood as starting with the output of the generators or\n",
            "        preprocessors.\n",
            "        \n",
            "        A Compilation Process is \"Eligible\" if it is done using GCC, alone or\n",
            "        with other GPL-compatible software, or if it is done without using any\n",
            "        work based on GCC. For example, using non-GPL-compatible Software to\n",
            "        optimize any GCC intermediate representations would not qualify as an\n",
            "        Eligible Compilation Process.\n",
            "        \n",
            "        1. Grant of Additional Permission.\n",
            "        \n",
            "        You have permission to propagate a work of Target Code formed by\n",
            "        combining the Runtime Library with Independent Modules, even if such\n",
            "        propagation would otherwise violate the terms of GPLv3, provided that\n",
            "        all Target Code was generated by Eligible Compilation Processes. You\n",
            "        may then convey such a combination under terms of your choice,\n",
            "        consistent with the licensing of the Independent Modules.\n",
            "        \n",
            "        2. No Weakening of GCC Copyleft.\n",
            "        \n",
            "        The availability of this Exception does not imply any general\n",
            "        presumption that third-party software is unaffected by the copyleft\n",
            "        requirements of the license of GCC.\n",
            "        \n",
            "        ----\n",
            "        \n",
            "                            GNU GENERAL PUBLIC LICENSE\n",
            "                               Version 3, 29 June 2007\n",
            "        \n",
            "         Copyright (C) 2007 Free Software Foundation, Inc. <http://fsf.org/>\n",
            "         Everyone is permitted to copy and distribute verbatim copies\n",
            "         of this license document, but changing it is not allowed.\n",
            "        \n",
            "                                    Preamble\n",
            "        \n",
            "          The GNU General Public License is a free, copyleft license for\n",
            "        software and other kinds of works.\n",
            "        \n",
            "          The licenses for most software and other practical works are designed\n",
            "        to take away your freedom to share and change the works.  By contrast,\n",
            "        the GNU General Public License is intended to guarantee your freedom to\n",
            "        share and change all versions of a program--to make sure it remains free\n",
            "        software for all its users.  We, the Free Software Foundation, use the\n",
            "        GNU General Public License for most of our software; it applies also to\n",
            "        any other work released this way by its authors.  You can apply it to\n",
            "        your programs, too.\n",
            "        \n",
            "          When we speak of free software, we are referring to freedom, not\n",
            "        price.  Our General Public Licenses are designed to make sure that you\n",
            "        have the freedom to distribute copies of free software (and charge for\n",
            "        them if you wish), that you receive source code or can get it if you\n",
            "        want it, that you can change the software or use pieces of it in new\n",
            "        free programs, and that you know you can do these things.\n",
            "        \n",
            "          To protect your rights, we need to prevent others from denying you\n",
            "        these rights or asking you to surrender the rights.  Therefore, you have\n",
            "        certain responsibilities if you distribute copies of the software, or if\n",
            "        you modify it: responsibilities to respect the freedom of others.\n",
            "        \n",
            "          For example, if you distribute copies of such a program, whether\n",
            "        gratis or for a fee, you must pass on to the recipients the same\n",
            "        freedoms that you received.  You must make sure that they, too, receive\n",
            "        or can get the source code.  And you must show them these terms so they\n",
            "        know their rights.\n",
            "        \n",
            "          Developers that use the GNU GPL protect your rights with two steps:\n",
            "        (1) assert copyright on the software, and (2) offer you this License\n",
            "        giving you legal permission to copy, distribute and/or modify it.\n",
            "        \n",
            "          For the developers' and authors' protection, the GPL clearly explains\n",
            "        that there is no warranty for this free software.  For both users' and\n",
            "        authors' sake, the GPL requires that modified versions be marked as\n",
            "        changed, so that their problems will not be attributed erroneously to\n",
            "        authors of previous versions.\n",
            "        \n",
            "          Some devices are designed to deny users access to install or run\n",
            "        modified versions of the software inside them, although the manufacturer\n",
            "        can do so.  This is fundamentally incompatible with the aim of\n",
            "        protecting users' freedom to change the software.  The systematic\n",
            "        pattern of such abuse occurs in the area of products for individuals to\n",
            "        use, which is precisely where it is most unacceptable.  Therefore, we\n",
            "        have designed this version of the GPL to prohibit the practice for those\n",
            "        products.  If such problems arise substantially in other domains, we\n",
            "        stand ready to extend this provision to those domains in future versions\n",
            "        of the GPL, as needed to protect the freedom of users.\n",
            "        \n",
            "          Finally, every program is threatened constantly by software patents.\n",
            "        States should not allow patents to restrict development and use of\n",
            "        software on general-purpose computers, but in those that do, we wish to\n",
            "        avoid the special danger that patents applied to a free program could\n",
            "        make it effectively proprietary.  To prevent this, the GPL assures that\n",
            "        patents cannot be used to render the program non-free.\n",
            "        \n",
            "          The precise terms and conditions for copying, distribution and\n",
            "        modification follow.\n",
            "        \n",
            "                               TERMS AND CONDITIONS\n",
            "        \n",
            "          0. Definitions.\n",
            "        \n",
            "          \"This License\" refers to version 3 of the GNU General Public License.\n",
            "        \n",
            "          \"Copyright\" also means copyright-like laws that apply to other kinds of\n",
            "        works, such as semiconductor masks.\n",
            "        \n",
            "          \"The Program\" refers to any copyrightable work licensed under this\n",
            "        License.  Each licensee is addressed as \"you\".  \"Licensees\" and\n",
            "        \"recipients\" may be individuals or organizations.\n",
            "        \n",
            "          To \"modify\" a work means to copy from or adapt all or part of the work\n",
            "        in a fashion requiring copyright permission, other than the making of an\n",
            "        exact copy.  The resulting work is called a \"modified version\" of the\n",
            "        earlier work or a work \"based on\" the earlier work.\n",
            "        \n",
            "          A \"covered work\" means either the unmodified Program or a work based\n",
            "        on the Program.\n",
            "        \n",
            "          To \"propagate\" a work means to do anything with it that, without\n",
            "        permission, would make you directly or secondarily liable for\n",
            "        infringement under applicable copyright law, except executing it on a\n",
            "        computer or modifying a private copy.  Propagation includes copying,\n",
            "        distribution (with or without modification), making available to the\n",
            "        public, and in some countries other activities as well.\n",
            "        \n",
            "          To \"convey\" a work means any kind of propagation that enables other\n",
            "        parties to make or receive copies.  Mere interaction with a user through\n",
            "        a computer network, with no transfer of a copy, is not conveying.\n",
            "        \n",
            "          An interactive user interface displays \"Appropriate Legal Notices\"\n",
            "        to the extent that it includes a convenient and prominently visible\n",
            "        feature that (1) displays an appropriate copyright notice, and (2)\n",
            "        tells the user that there is no warranty for the work (except to the\n",
            "        extent that warranties are provided), that licensees may convey the\n",
            "        work under this License, and how to view a copy of this License.  If\n",
            "        the interface presents a list of user commands or options, such as a\n",
            "        menu, a prominent item in the list meets this criterion.\n",
            "        \n",
            "          1. Source Code.\n",
            "        \n",
            "          The \"source code\" for a work means the preferred form of the work\n",
            "        for making modifications to it.  \"Object code\" means any non-source\n",
            "        form of a work.\n",
            "        \n",
            "          A \"Standard Interface\" means an interface that either is an official\n",
            "        standard defined by a recognized standards body, or, in the case of\n",
            "        interfaces specified for a particular programming language, one that\n",
            "        is widely used among developers working in that language.\n",
            "        \n",
            "          The \"System Libraries\" of an executable work include anything, other\n",
            "        than the work as a whole, that (a) is included in the normal form of\n",
            "        packaging a Major Component, but which is not part of that Major\n",
            "        Component, and (b) serves only to enable use of the work with that\n",
            "        Major Component, or to implement a Standard Interface for which an\n",
            "        implementation is available to the public in source code form.  A\n",
            "        \"Major Component\", in this context, means a major essential component\n",
            "        (kernel, window system, and so on) of the specific operating system\n",
            "        (if any) on which the executable work runs, or a compiler used to\n",
            "        produce the work, or an object code interpreter used to run it.\n",
            "        \n",
            "          The \"Corresponding Source\" for a work in object code form means all\n",
            "        the source code needed to generate, install, and (for an executable\n",
            "        work) run the object code and to modify the work, including scripts to\n",
            "        control those activities.  However, it does not include the work's\n",
            "        System Libraries, or general-purpose tools or generally available free\n",
            "        programs which are used unmodified in performing those activities but\n",
            "        which are not part of the work.  For example, Corresponding Source\n",
            "        includes interface definition files associated with source files for\n",
            "        the work, and the source code for shared libraries and dynamically\n",
            "        linked subprograms that the work is specifically designed to require,\n",
            "        such as by intimate data communication or control flow between those\n",
            "        subprograms and other parts of the work.\n",
            "        \n",
            "          The Corresponding Source need not include anything that users\n",
            "        can regenerate automatically from other parts of the Corresponding\n",
            "        Source.\n",
            "        \n",
            "          The Corresponding Source for a work in source code form is that\n",
            "        same work.\n",
            "        \n",
            "          2. Basic Permissions.\n",
            "        \n",
            "          All rights granted under this License are granted for the term of\n",
            "        copyright on the Program, and are irrevocable provided the stated\n",
            "        conditions are met.  This License explicitly affirms your unlimited\n",
            "        permission to run the unmodified Program.  The output from running a\n",
            "        covered work is covered by this License only if the output, given its\n",
            "        content, constitutes a covered work.  This License acknowledges your\n",
            "        rights of fair use or other equivalent, as provided by copyright law.\n",
            "        \n",
            "          You may make, run and propagate covered works that you do not\n",
            "        convey, without conditions so long as your license otherwise remains\n",
            "        in force.  You may convey covered works to others for the sole purpose\n",
            "        of having them make modifications exclusively for you, or provide you\n",
            "        with facilities for running those works, provided that you comply with\n",
            "        the terms of this License in conveying all material for which you do\n",
            "        not control copyright.  Those thus making or running the covered works\n",
            "        for you must do so exclusively on your behalf, under your direction\n",
            "        and control, on terms that prohibit them from making any copies of\n",
            "        your copyrighted material outside their relationship with you.\n",
            "        \n",
            "          Conveying under any other circumstances is permitted solely under\n",
            "        the conditions stated below.  Sublicensing is not allowed; section 10\n",
            "        makes it unnecessary.\n",
            "        \n",
            "          3. Protecting Users' Legal Rights From Anti-Circumvention Law.\n",
            "        \n",
            "          No covered work shall be deemed part of an effective technological\n",
            "        measure under any applicable law fulfilling obligations under article\n",
            "        11 of the WIPO copyright treaty adopted on 20 December 1996, or\n",
            "        similar laws prohibiting or restricting circumvention of such\n",
            "        measures.\n",
            "        \n",
            "          When you convey a covered work, you waive any legal power to forbid\n",
            "        circumvention of technological measures to the extent such circumvention\n",
            "        is effected by exercising rights under this License with respect to\n",
            "        the covered work, and you disclaim any intention to limit operation or\n",
            "        modification of the work as a means of enforcing, against the work's\n",
            "        users, your or third parties' legal rights to forbid circumvention of\n",
            "        technological measures.\n",
            "        \n",
            "          4. Conveying Verbatim Copies.\n",
            "        \n",
            "          You may convey verbatim copies of the Program's source code as you\n",
            "        receive it, in any medium, provided that you conspicuously and\n",
            "        appropriately publish on each copy an appropriate copyright notice;\n",
            "        keep intact all notices stating that this License and any\n",
            "        non-permissive terms added in accord with section 7 apply to the code;\n",
            "        keep intact all notices of the absence of any warranty; and give all\n",
            "        recipients a copy of this License along with the Program.\n",
            "        \n",
            "          You may charge any price or no price for each copy that you convey,\n",
            "        and you may offer support or warranty protection for a fee.\n",
            "        \n",
            "          5. Conveying Modified Source Versions.\n",
            "        \n",
            "          You may convey a work based on the Program, or the modifications to\n",
            "        produce it from the Program, in the form of source code under the\n",
            "        terms of section 4, provided that you also meet all of these conditions:\n",
            "        \n",
            "            a) The work must carry prominent notices stating that you modified\n",
            "            it, and giving a relevant date.\n",
            "        \n",
            "            b) The work must carry prominent notices stating that it is\n",
            "            released under this License and any conditions added under section\n",
            "            7.  This requirement modifies the requirement in section 4 to\n",
            "            \"keep intact all notices\".\n",
            "        \n",
            "            c) You must license the entire work, as a whole, under this\n",
            "            License to anyone who comes into possession of a copy.  This\n",
            "            License will therefore apply, along with any applicable section 7\n",
            "            additional terms, to the whole of the work, and all its parts,\n",
            "            regardless of how they are packaged.  This License gives no\n",
            "            permission to license the work in any other way, but it does not\n",
            "            invalidate such permission if you have separately received it.\n",
            "        \n",
            "            d) If the work has interactive user interfaces, each must display\n",
            "            Appropriate Legal Notices; however, if the Program has interactive\n",
            "            interfaces that do not display Appropriate Legal Notices, your\n",
            "            work need not make them do so.\n",
            "        \n",
            "          A compilation of a covered work with other separate and independent\n",
            "        works, which are not by their nature extensions of the covered work,\n",
            "        and which are not combined with it such as to form a larger program,\n",
            "        in or on a volume of a storage or distribution medium, is called an\n",
            "        \"aggregate\" if the compilation and its resulting copyright are not\n",
            "        used to limit the access or legal rights of the compilation's users\n",
            "        beyond what the individual works permit.  Inclusion of a covered work\n",
            "        in an aggregate does not cause this License to apply to the other\n",
            "        parts of the aggregate.\n",
            "        \n",
            "          6. Conveying Non-Source Forms.\n",
            "        \n",
            "          You may convey a covered work in object code form under the terms\n",
            "        of sections 4 and 5, provided that you also convey the\n",
            "        machine-readable Corresponding Source under the terms of this License,\n",
            "        in one of these ways:\n",
            "        \n",
            "            a) Convey the object code in, or embodied in, a physical product\n",
            "            (including a physical distribution medium), accompanied by the\n",
            "            Corresponding Source fixed on a durable physical medium\n",
            "            customarily used for software interchange.\n",
            "        \n",
            "            b) Convey the object code in, or embodied in, a physical product\n",
            "            (including a physical distribution medium), accompanied by a\n",
            "            written offer, valid for at least three years and valid for as\n",
            "            long as you offer spare parts or customer support for that product\n",
            "            model, to give anyone who possesses the object code either (1) a\n",
            "            copy of the Corresponding Source for all the software in the\n",
            "            product that is covered by this License, on a durable physical\n",
            "            medium customarily used for software interchange, for a price no\n",
            "            more than your reasonable cost of physically performing this\n",
            "            conveying of source, or (2) access to copy the\n",
            "            Corresponding Source from a network server at no charge.\n",
            "        \n",
            "            c) Convey individual copies of the object code with a copy of the\n",
            "            written offer to provide the Corresponding Source.  This\n",
            "            alternative is allowed only occasionally and noncommercially, and\n",
            "            only if you received the object code with such an offer, in accord\n",
            "            with subsection 6b.\n",
            "        \n",
            "            d) Convey the object code by offering access from a designated\n",
            "            place (gratis or for a charge), and offer equivalent access to the\n",
            "            Corresponding Source in the same way through the same place at no\n",
            "            further charge.  You need not require recipients to copy the\n",
            "            Corresponding Source along with the object code.  If the place to\n",
            "            copy the object code is a network server, the Corresponding Source\n",
            "            may be on a different server (operated by you or a third party)\n",
            "            that supports equivalent copying facilities, provided you maintain\n",
            "            clear directions next to the object code saying where to find the\n",
            "            Corresponding Source.  Regardless of what server hosts the\n",
            "            Corresponding Source, you remain obligated to ensure that it is\n",
            "            available for as long as needed to satisfy these requirements.\n",
            "        \n",
            "            e) Convey the object code using peer-to-peer transmission, provided\n",
            "            you inform other peers where the object code and Corresponding\n",
            "            Source of the work are being offered to the general public at no\n",
            "            charge under subsection 6d.\n",
            "        \n",
            "          A separable portion of the object code, whose source code is excluded\n",
            "        from the Corresponding Source as a System Library, need not be\n",
            "        included in conveying the object code work.\n",
            "        \n",
            "          A \"User Product\" is either (1) a \"consumer product\", which means any\n",
            "        tangible personal property which is normally used for personal, family,\n",
            "        or household purposes, or (2) anything designed or sold for incorporation\n",
            "        into a dwelling.  In determining whether a product is a consumer product,\n",
            "        doubtful cases shall be resolved in favor of coverage.  For a particular\n",
            "        product received by a particular user, \"normally used\" refers to a\n",
            "        typical or common use of that class of product, regardless of the status\n",
            "        of the particular user or of the way in which the particular user\n",
            "        actually uses, or expects or is expected to use, the product.  A product\n",
            "        is a consumer product regardless of whether the product has substantial\n",
            "        commercial, industrial or non-consumer uses, unless such uses represent\n",
            "        the only significant mode of use of the product.\n",
            "        \n",
            "          \"Installation Information\" for a User Product means any methods,\n",
            "        procedures, authorization keys, or other information required to install\n",
            "        and execute modified versions of a covered work in that User Product from\n",
            "        a modified version of its Corresponding Source.  The information must\n",
            "        suffice to ensure that the continued functioning of the modified object\n",
            "        code is in no case prevented or interfered with solely because\n",
            "        modification has been made.\n",
            "        \n",
            "          If you convey an object code work under this section in, or with, or\n",
            "        specifically for use in, a User Product, and the conveying occurs as\n",
            "        part of a transaction in which the right of possession and use of the\n",
            "        User Product is transferred to the recipient in perpetuity or for a\n",
            "        fixed term (regardless of how the transaction is characterized), the\n",
            "        Corresponding Source conveyed under this section must be accompanied\n",
            "        by the Installation Information.  But this requirement does not apply\n",
            "        if neither you nor any third party retains the ability to install\n",
            "        modified object code on the User Product (for example, the work has\n",
            "        been installed in ROM).\n",
            "        \n",
            "          The requirement to provide Installation Information does not include a\n",
            "        requirement to continue to provide support service, warranty, or updates\n",
            "        for a work that has been modified or installed by the recipient, or for\n",
            "        the User Product in which it has been modified or installed.  Access to a\n",
            "        network may be denied when the modification itself materially and\n",
            "        adversely affects the operation of the network or violates the rules and\n",
            "        protocols for communication across the network.\n",
            "        \n",
            "          Corresponding Source conveyed, and Installation Information provided,\n",
            "        in accord with this section must be in a format that is publicly\n",
            "        documented (and with an implementation available to the public in\n",
            "        source code form), and must require no special password or key for\n",
            "        unpacking, reading or copying.\n",
            "        \n",
            "          7. Additional Terms.\n",
            "        \n",
            "          \"Additional permissions\" are terms that supplement the terms of this\n",
            "        License by making exceptions from one or more of its conditions.\n",
            "        Additional permissions that are applicable to the entire Program shall\n",
            "        be treated as though they were included in this License, to the extent\n",
            "        that they are valid under applicable law.  If additional permissions\n",
            "        apply only to part of the Program, that part may be used separately\n",
            "        under those permissions, but the entire Program remains governed by\n",
            "        this License without regard to the additional permissions.\n",
            "        \n",
            "          When you convey a copy of a covered work, you may at your option\n",
            "        remove any additional permissions from that copy, or from any part of\n",
            "        it.  (Additional permissions may be written to require their own\n",
            "        removal in certain cases when you modify the work.)  You may place\n",
            "        additional permissions on material, added by you to a covered work,\n",
            "        for which you have or can give appropriate copyright permission.\n",
            "        \n",
            "          Notwithstanding any other provision of this License, for material you\n",
            "        add to a covered work, you may (if authorized by the copyright holders of\n",
            "        that material) supplement the terms of this License with terms:\n",
            "        \n",
            "            a) Disclaiming warranty or limiting liability differently from the\n",
            "            terms of sections 15 and 16 of this License; or\n",
            "        \n",
            "            b) Requiring preservation of specified reasonable legal notices or\n",
            "            author attributions in that material or in the Appropriate Legal\n",
            "            Notices displayed by works containing it; or\n",
            "        \n",
            "            c) Prohibiting misrepresentation of the origin of that material, or\n",
            "            requiring that modified versions of such material be marked in\n",
            "            reasonable ways as different from the original version; or\n",
            "        \n",
            "            d) Limiting the use for publicity purposes of names of licensors or\n",
            "            authors of the material; or\n",
            "        \n",
            "            e) Declining to grant rights under trademark law for use of some\n",
            "            trade names, trademarks, or service marks; or\n",
            "        \n",
            "            f) Requiring indemnification of licensors and authors of that\n",
            "            material by anyone who conveys the material (or modified versions of\n",
            "            it) with contractual assumptions of liability to the recipient, for\n",
            "            any liability that these contractual assumptions directly impose on\n",
            "            those licensors and authors.\n",
            "        \n",
            "          All other non-permissive additional terms are considered \"further\n",
            "        restrictions\" within the meaning of section 10.  If the Program as you\n",
            "        received it, or any part of it, contains a notice stating that it is\n",
            "        governed by this License along with a term that is a further\n",
            "        restriction, you may remove that term.  If a license document contains\n",
            "        a further restriction but permits relicensing or conveying under this\n",
            "        License, you may add to a covered work material governed by the terms\n",
            "        of that license document, provided that the further restriction does\n",
            "        not survive such relicensing or conveying.\n",
            "        \n",
            "          If you add terms to a covered work in accord with this section, you\n",
            "        must place, in the relevant source files, a statement of the\n",
            "        additional terms that apply to those files, or a notice indicating\n",
            "        where to find the applicable terms.\n",
            "        \n",
            "          Additional terms, permissive or non-permissive, may be stated in the\n",
            "        form of a separately written license, or stated as exceptions;\n",
            "        the above requirements apply either way.\n",
            "        \n",
            "          8. Termination.\n",
            "        \n",
            "          You may not propagate or modify a covered work except as expressly\n",
            "        provided under this License.  Any attempt otherwise to propagate or\n",
            "        modify it is void, and will automatically terminate your rights under\n",
            "        this License (including any patent licenses granted under the third\n",
            "        paragraph of section 11).\n",
            "        \n",
            "          However, if you cease all violation of this License, then your\n",
            "        license from a particular copyright holder is reinstated (a)\n",
            "        provisionally, unless and until the copyright holder explicitly and\n",
            "        finally terminates your license, and (b) permanently, if the copyright\n",
            "        holder fails to notify you of the violation by some reasonable means\n",
            "        prior to 60 days after the cessation.\n",
            "        \n",
            "          Moreover, your license from a particular copyright holder is\n",
            "        reinstated permanently if the copyright holder notifies you of the\n",
            "        violation by some reasonable means, this is the first time you have\n",
            "        received notice of violation of this License (for any work) from that\n",
            "        copyright holder, and you cure the violation prior to 30 days after\n",
            "        your receipt of the notice.\n",
            "        \n",
            "          Termination of your rights under this section does not terminate the\n",
            "        licenses of parties who have received copies or rights from you under\n",
            "        this License.  If your rights have been terminated and not permanently\n",
            "        reinstated, you do not qualify to receive new licenses for the same\n",
            "        material under section 10.\n",
            "        \n",
            "          9. Acceptance Not Required for Having Copies.\n",
            "        \n",
            "          You are not required to accept this License in order to receive or\n",
            "        run a copy of the Program.  Ancillary propagation of a covered work\n",
            "        occurring solely as a consequence of using peer-to-peer transmission\n",
            "        to receive a copy likewise does not require acceptance.  However,\n",
            "        nothing other than this License grants you permission to propagate or\n",
            "        modify any covered work.  These actions infringe copyright if you do\n",
            "        not accept this License.  Therefore, by modifying or propagating a\n",
            "        covered work, you indicate your acceptance of this License to do so.\n",
            "        \n",
            "          10. Automatic Licensing of Downstream Recipients.\n",
            "        \n",
            "          Each time you convey a covered work, the recipient automatically\n",
            "        receives a license from the original licensors, to run, modify and\n",
            "        propagate that work, subject to this License.  You are not responsible\n",
            "        for enforcing compliance by third parties with this License.\n",
            "        \n",
            "          An \"entity transaction\" is a transaction transferring control of an\n",
            "        organization, or substantially all assets of one, or subdividing an\n",
            "        organization, or merging organizations.  If propagation of a covered\n",
            "        work results from an entity transaction, each party to that\n",
            "        transaction who receives a copy of the work also receives whatever\n",
            "        licenses to the work the party's predecessor in interest had or could\n",
            "        give under the previous paragraph, plus a right to possession of the\n",
            "        Corresponding Source of the work from the predecessor in interest, if\n",
            "        the predecessor has it or can get it with reasonable efforts.\n",
            "        \n",
            "          You may not impose any further restrictions on the exercise of the\n",
            "        rights granted or affirmed under this License.  For example, you may\n",
            "        not impose a license fee, royalty, or other charge for exercise of\n",
            "        rights granted under this License, and you may not initiate litigation\n",
            "        (including a cross-claim or counterclaim in a lawsuit) alleging that\n",
            "        any patent claim is infringed by making, using, selling, offering for\n",
            "        sale, or importing the Program or any portion of it.\n",
            "        \n",
            "          11. Patents.\n",
            "        \n",
            "          A \"contributor\" is a copyright holder who authorizes use under this\n",
            "        License of the Program or a work on which the Program is based.  The\n",
            "        work thus licensed is called the contributor's \"contributor version\".\n",
            "        \n",
            "          A contributor's \"essential patent claims\" are all patent claims\n",
            "        owned or controlled by the contributor, whether already acquired or\n",
            "        hereafter acquired, that would be infringed by some manner, permitted\n",
            "        by this License, of making, using, or selling its contributor version,\n",
            "        but do not include claims that would be infringed only as a\n",
            "        consequence of further modification of the contributor version.  For\n",
            "        purposes of this definition, \"control\" includes the right to grant\n",
            "        patent sublicenses in a manner consistent with the requirements of\n",
            "        this License.\n",
            "        \n",
            "          Each contributor grants you a non-exclusive, worldwide, royalty-free\n",
            "        patent license under the contributor's essential patent claims, to\n",
            "        make, use, sell, offer for sale, import and otherwise run, modify and\n",
            "        propagate the contents of its contributor version.\n",
            "        \n",
            "          In the following three paragraphs, a \"patent license\" is any express\n",
            "        agreement or commitment, however denominated, not to enforce a patent\n",
            "        (such as an express permission to practice a patent or covenant not to\n",
            "        sue for patent infringement).  To \"grant\" such a patent license to a\n",
            "        party means to make such an agreement or commitment not to enforce a\n",
            "        patent against the party.\n",
            "        \n",
            "          If you convey a covered work, knowingly relying on a patent license,\n",
            "        and the Corresponding Source of the work is not available for anyone\n",
            "        to copy, free of charge and under the terms of this License, through a\n",
            "        publicly available network server or other readily accessible means,\n",
            "        then you must either (1) cause the Corresponding Source to be so\n",
            "        available, or (2) arrange to deprive yourself of the benefit of the\n",
            "        patent license for this particular work, or (3) arrange, in a manner\n",
            "        consistent with the requirements of this License, to extend the patent\n",
            "        license to downstream recipients.  \"Knowingly relying\" means you have\n",
            "        actual knowledge that, but for the patent license, your conveying the\n",
            "        covered work in a country, or your recipient's use of the covered work\n",
            "        in a country, would infringe one or more identifiable patents in that\n",
            "        country that you have reason to believe are valid.\n",
            "        \n",
            "          If, pursuant to or in connection with a single transaction or\n",
            "        arrangement, you convey, or propagate by procuring conveyance of, a\n",
            "        covered work, and grant a patent license to some of the parties\n",
            "        receiving the covered work authorizing them to use, propagate, modify\n",
            "        or convey a specific copy of the covered work, then the patent license\n",
            "        you grant is automatically extended to all recipients of the covered\n",
            "        work and works based on it.\n",
            "        \n",
            "          A patent license is \"discriminatory\" if it does not include within\n",
            "        the scope of its coverage, prohibits the exercise of, or is\n",
            "        conditioned on the non-exercise of one or more of the rights that are\n",
            "        specifically granted under this License.  You may not convey a covered\n",
            "        work if you are a party to an arrangement with a third party that is\n",
            "        in the business of distributing software, under which you make payment\n",
            "        to the third party based on the extent of your activity of conveying\n",
            "        the work, and under which the third party grants, to any of the\n",
            "        parties who would receive the covered work from you, a discriminatory\n",
            "        patent license (a) in connection with copies of the covered work\n",
            "        conveyed by you (or copies made from those copies), or (b) primarily\n",
            "        for and in connection with specific products or compilations that\n",
            "        contain the covered work, unless you entered into that arrangement,\n",
            "        or that patent license was granted, prior to 28 March 2007.\n",
            "        \n",
            "          Nothing in this License shall be construed as excluding or limiting\n",
            "        any implied license or other defenses to infringement that may\n",
            "        otherwise be available to you under applicable patent law.\n",
            "        \n",
            "          12. No Surrender of Others' Freedom.\n",
            "        \n",
            "          If conditions are imposed on you (whether by court order, agreement or\n",
            "        otherwise) that contradict the conditions of this License, they do not\n",
            "        excuse you from the conditions of this License.  If you cannot convey a\n",
            "        covered work so as to satisfy simultaneously your obligations under this\n",
            "        License and any other pertinent obligations, then as a consequence you may\n",
            "        not convey it at all.  For example, if you agree to terms that obligate you\n",
            "        to collect a royalty for further conveying from those to whom you convey\n",
            "        the Program, the only way you could satisfy both those terms and this\n",
            "        License would be to refrain entirely from conveying the Program.\n",
            "        \n",
            "          13. Use with the GNU Affero General Public License.\n",
            "        \n",
            "          Notwithstanding any other provision of this License, you have\n",
            "        permission to link or combine any covered work with a work licensed\n",
            "        under version 3 of the GNU Affero General Public License into a single\n",
            "        combined work, and to convey the resulting work.  The terms of this\n",
            "        License will continue to apply to the part which is the covered work,\n",
            "        but the special requirements of the GNU Affero General Public License,\n",
            "        section 13, concerning interaction through a network will apply to the\n",
            "        combination as such.\n",
            "        \n",
            "          14. Revised Versions of this License.\n",
            "        \n",
            "          The Free Software Foundation may publish revised and/or new versions of\n",
            "        the GNU General Public License from time to time.  Such new versions will\n",
            "        be similar in spirit to the present version, but may differ in detail to\n",
            "        address new problems or concerns.\n",
            "        \n",
            "          Each version is given a distinguishing version number.  If the\n",
            "        Program specifies that a certain numbered version of the GNU General\n",
            "        Public License \"or any later version\" applies to it, you have the\n",
            "        option of following the terms and conditions either of that numbered\n",
            "        version or of any later version published by the Free Software\n",
            "        Foundation.  If the Program does not specify a version number of the\n",
            "        GNU General Public License, you may choose any version ever published\n",
            "        by the Free Software Foundation.\n",
            "        \n",
            "          If the Program specifies that a proxy can decide which future\n",
            "        versions of the GNU General Public License can be used, that proxy's\n",
            "        public statement of acceptance of a version permanently authorizes you\n",
            "        to choose that version for the Program.\n",
            "        \n",
            "          Later license versions may give you additional or different\n",
            "        permissions.  However, no additional obligations are imposed on any\n",
            "        author or copyright holder as a result of your choosing to follow a\n",
            "        later version.\n",
            "        \n",
            "          15. Disclaimer of Warranty.\n",
            "        \n",
            "          THERE IS NO WARRANTY FOR THE PROGRAM, TO THE EXTENT PERMITTED BY\n",
            "        APPLICABLE LAW.  EXCEPT WHEN OTHERWISE STATED IN WRITING THE COPYRIGHT\n",
            "        HOLDERS AND/OR OTHER PARTIES PROVIDE THE PROGRAM \"AS IS\" WITHOUT WARRANTY\n",
            "        OF ANY KIND, EITHER EXPRESSED OR IMPLIED, INCLUDING, BUT NOT LIMITED TO,\n",
            "        THE IMPLIED WARRANTIES OF MERCHANTABILITY AND FITNESS FOR A PARTICULAR\n",
            "        PURPOSE.  THE ENTIRE RISK AS TO THE QUALITY AND PERFORMANCE OF THE PROGRAM\n",
            "        IS WITH YOU.  SHOULD THE PROGRAM PROVE DEFECTIVE, YOU ASSUME THE COST OF\n",
            "        ALL NECESSARY SERVICING, REPAIR OR CORRECTION.\n",
            "        \n",
            "          16. Limitation of Liability.\n",
            "        \n",
            "          IN NO EVENT UNLESS REQUIRED BY APPLICABLE LAW OR AGREED TO IN WRITING\n",
            "        WILL ANY COPYRIGHT HOLDER, OR ANY OTHER PARTY WHO MODIFIES AND/OR CONVEYS\n",
            "        THE PROGRAM AS PERMITTED ABOVE, BE LIABLE TO YOU FOR DAMAGES, INCLUDING ANY\n",
            "        GENERAL, SPECIAL, INCIDENTAL OR CONSEQUENTIAL DAMAGES ARISING OUT OF THE\n",
            "        USE OR INABILITY TO USE THE PROGRAM (INCLUDING BUT NOT LIMITED TO LOSS OF\n",
            "        DATA OR DATA BEING RENDERED INACCURATE OR LOSSES SUSTAINED BY YOU OR THIRD\n",
            "        PARTIES OR A FAILURE OF THE PROGRAM TO OPERATE WITH ANY OTHER PROGRAMS),\n",
            "        EVEN IF SUCH HOLDER OR OTHER PARTY HAS BEEN ADVISED OF THE POSSIBILITY OF\n",
            "        SUCH DAMAGES.\n",
            "        \n",
            "          17. Interpretation of Sections 15 and 16.\n",
            "        \n",
            "          If the disclaimer of warranty and limitation of liability provided\n",
            "        above cannot be given local legal effect according to their terms,\n",
            "        reviewing courts shall apply local law that most closely approximates\n",
            "        an absolute waiver of all civil liability in connection with the\n",
            "        Program, unless a warranty or assumption of liability accompanies a\n",
            "        copy of the Program in return for a fee.\n",
            "        \n",
            "                             END OF TERMS AND CONDITIONS\n",
            "        \n",
            "                    How to Apply These Terms to Your New Programs\n",
            "        \n",
            "          If you develop a new program, and you want it to be of the greatest\n",
            "        possible use to the public, the best way to achieve this is to make it\n",
            "        free software which everyone can redistribute and change under these terms.\n",
            "        \n",
            "          To do so, attach the following notices to the program.  It is safest\n",
            "        to attach them to the start of each source file to most effectively\n",
            "        state the exclusion of warranty; and each file should have at least\n",
            "        the \"copyright\" line and a pointer to where the full notice is found.\n",
            "        \n",
            "            <one line to give the program's name and a brief idea of what it does.>\n",
            "            Copyright (C) <year>  <name of author>\n",
            "        \n",
            "            This program is free software: you can redistribute it and/or modify\n",
            "            it under the terms of the GNU General Public License as published by\n",
            "            the Free Software Foundation, either version 3 of the License, or\n",
            "            (at your option) any later version.\n",
            "        \n",
            "            This program is distributed in the hope that it will be useful,\n",
            "            but WITHOUT ANY WARRANTY; without even the implied warranty of\n",
            "            MERCHANTABILITY or FITNESS FOR A PARTICULAR PURPOSE.  See the\n",
            "            GNU General Public License for more details.\n",
            "        \n",
            "            You should have received a copy of the GNU General Public License\n",
            "            along with this program.  If not, see <http://www.gnu.org/licenses/>.\n",
            "        \n",
            "        Also add information on how to contact you by electronic and paper mail.\n",
            "        \n",
            "          If the program does terminal interaction, make it output a short\n",
            "        notice like this when it starts in an interactive mode:\n",
            "        \n",
            "            <program>  Copyright (C) <year>  <name of author>\n",
            "            This program comes with ABSOLUTELY NO WARRANTY; for details type `show w'.\n",
            "            This is free software, and you are welcome to redistribute it\n",
            "            under certain conditions; type `show c' for details.\n",
            "        \n",
            "        The hypothetical commands `show w' and `show c' should show the appropriate\n",
            "        parts of the General Public License.  Of course, your program's commands\n",
            "        might be different; for a GUI interface, you would use an \"about box\".\n",
            "        \n",
            "          You should also get your employer (if you work as a programmer) or school,\n",
            "        if any, to sign a \"copyright disclaimer\" for the program, if necessary.\n",
            "        For more information on this, and how to apply and follow the GNU GPL, see\n",
            "        <http://www.gnu.org/licenses/>.\n",
            "        \n",
            "          The GNU General Public License does not permit incorporating your program\n",
            "        into proprietary programs.  If your program is a subroutine library, you\n",
            "        may consider it more useful to permit linking proprietary applications with\n",
            "        the library.  If this is what you want to do, use the GNU Lesser General\n",
            "        Public License instead of this License.  But first, please read\n",
            "        <http://www.gnu.org/philosophy/why-not-lgpl.html>.\n",
            "        \n",
            "        Name: libquadmath\n",
            "        Files: numpy.libs/libquadmath*.so\n",
            "        Description: dynamically linked to files compiled with gcc\n",
            "        Availability: https://gcc.gnu.org/git/?p=gcc.git;a=tree;f=libquadmath\n",
            "        License: LGPL-2.1-or-later\n",
            "        \n",
            "            GCC Quad-Precision Math Library\n",
            "            Copyright (C) 2010-2019 Free Software Foundation, Inc.\n",
            "            Written by Francois-Xavier Coudert  <fxcoudert@gcc.gnu.org>\n",
            "        \n",
            "            This file is part of the libquadmath library.\n",
            "            Libquadmath is free software; you can redistribute it and/or\n",
            "            modify it under the terms of the GNU Library General Public\n",
            "            License as published by the Free Software Foundation; either\n",
            "            version 2.1 of the License, or (at your option) any later version.\n",
            "        \n",
            "            Libquadmath is distributed in the hope that it will be useful,\n",
            "            but WITHOUT ANY WARRANTY; without even the implied warranty of\n",
            "            MERCHANTABILITY or FITNESS FOR A PARTICULAR PURPOSE.  See the GNU\n",
            "            Lesser General Public License for more details.\n",
            "            https://www.gnu.org/licenses/old-licenses/lgpl-2.1.html\n",
            "Location: /usr/local/lib/python3.10/dist-packages\n",
            "Requires: \n",
            "Required-by: accelerate, albucore, albumentations, altair, arviz, astropy, autograd, bigframes, blis, bokeh, Bottleneck, bqplot, chex, clarabel, cmdstanpy, contourpy, cudf-cu12, cufflinks, cupy-cuda12x, cvxpy, datascience, db-dtypes, dopamine_rl, ecos, flax, folium, geemap, gensim, geopandas, gym, h5py, holoviews, hyperopt, ibis-framework, imageio, imbalanced-learn, imgaug, jax, jaxlib, keras, librosa, lightgbm, matplotlib, matplotlib-venn, mizani, ml-dtypes, mlxtend, moviepy, music21, nibabel, numba, numexpr, opencv-contrib-python, opencv-python, opencv-python-headless, optax, orbax-checkpoint, osqp, pandas, pandas-gbq, pandas-stubs, patsy, plotnine, prophet, pyarrow, pycocotools, pyerfa, pymc, pyogrio, pytensor, python-louvain, qdldl, rmm-cu12, scikit-image, scikit-learn, scipy, scs, seaborn, shapely, sklearn-pandas, soxr, spacy, stanio, statsmodels, tables, tensorboard, tensorflow, tensorflow-datasets, tensorflow-hub, tensorflow-probability, tensorstore, thinc, tifffile, torchvision, transformers, wordcloud, xarray, xarray-einstats, xgboost, yellowbrick, yfinance\n"
          ]
        }
      ],
      "source": [
        "!pip show numpy"
      ]
    },
    {
      "cell_type": "markdown",
      "metadata": {
        "id": "KSNOrnoMHEjD"
      },
      "source": [
        "### 파이썬 오류 확인"
      ]
    },
    {
      "cell_type": "code",
      "execution_count": null,
      "metadata": {
        "id": "B8pmiTi5G8JX",
        "colab": {
          "base_uri": "https://localhost:8080/"
        },
        "outputId": "0f94802d-c707-4118-fe23-e5f7c2b4a18d"
      },
      "outputs": [
        {
          "output_type": "stream",
          "name": "stdout",
          "text": [
            "a < 9\n"
          ]
        }
      ],
      "source": [
        "# Syntax 오류 발생 예\n",
        "a = 1\n",
        "if a < 9 :\n",
        "    print('a < 9')"
      ]
    },
    {
      "cell_type": "markdown",
      "source": [
        "### 파이썬 예외처리 방법"
      ],
      "metadata": {
        "id": "DJQhC7btE_L5"
      }
    },
    {
      "cell_type": "code",
      "execution_count": null,
      "metadata": {
        "id": "GJ1Y-0wMHXJd"
      },
      "outputs": [],
      "source": [
        "# 오류 예외처리\n",
        "while True:\n",
        "    try:\n",
        "        x = int(input('Please enter a number: '))\n",
        "        break\n",
        "\n",
        "    except ValueError:\n",
        "        print('Oops! That was no valid number. Try again...')\n",
        "\n",
        "print('-----')"
      ]
    },
    {
      "cell_type": "markdown",
      "metadata": {
        "id": "6Ef7gKpD8GGP"
      },
      "source": [
        "### [PC에서만 실행] 수업에 사용할 라이브러리 설치하기\n",
        "- PC 윈도우 명령프롬프트에서 실행한다. 코랩에서는 실행 안함\n",
        "- PC에서는 명령어 맨 앞 '!'를 제거하고 실행한다."
      ]
    },
    {
      "cell_type": "code",
      "source": [
        "!python -m pip install --upgrade pip"
      ],
      "metadata": {
        "id": "ViukrDAGDuPc"
      },
      "execution_count": null,
      "outputs": []
    },
    {
      "cell_type": "code",
      "execution_count": null,
      "metadata": {
        "id": "WnEwfA_x8GGQ"
      },
      "outputs": [],
      "source": [
        "!pip install numpy"
      ]
    },
    {
      "cell_type": "code",
      "execution_count": null,
      "metadata": {
        "id": "ZqJSQDet8GGQ"
      },
      "outputs": [],
      "source": [
        "!pip install pandas"
      ]
    },
    {
      "cell_type": "code",
      "execution_count": null,
      "metadata": {
        "id": "JtYjHD2D8GGQ"
      },
      "outputs": [],
      "source": [
        "!pip install matplotlib"
      ]
    },
    {
      "cell_type": "code",
      "execution_count": null,
      "metadata": {
        "id": "BRSzhspAC6J8"
      },
      "outputs": [],
      "source": [
        "!pip install seaborn"
      ]
    },
    {
      "cell_type": "code",
      "execution_count": null,
      "metadata": {
        "id": "8spH-HIwC6Sz"
      },
      "outputs": [],
      "source": [
        "!pip install ploty"
      ]
    },
    {
      "cell_type": "markdown",
      "metadata": {
        "id": "wl2PYxtB8GGR"
      },
      "source": [
        "----------"
      ]
    },
    {
      "cell_type": "markdown",
      "metadata": {
        "id": "T20_kqnwDKe2"
      },
      "source": [
        "## 2.파이썬 자료형과 연산자"
      ]
    },
    {
      "cell_type": "markdown",
      "source": [
        "### **[자료형]**"
      ],
      "metadata": {
        "id": "rxo68HToTgT0"
      }
    },
    {
      "cell_type": "markdown",
      "metadata": {
        "id": "GPQdotYg8GGR"
      },
      "source": [
        "### 파이썬 자료형 확인"
      ]
    },
    {
      "cell_type": "code",
      "execution_count": null,
      "metadata": {
        "id": "re9ioSIM8GGR",
        "colab": {
          "base_uri": "https://localhost:8080/"
        },
        "outputId": "6e2facc0-90d1-4421-babb-10268cd61767"
      },
      "outputs": [
        {
          "output_type": "stream",
          "name": "stdout",
          "text": [
            "123의 자료형: <class 'int'>\n",
            "123의 자료형: <class 'str'>\n",
            "[123]의 자료형: <class 'list'>\n",
            "(123,)의 자료형: <class 'tuple'>\n",
            "{'key': 123}의 자료형: <class 'dict'>\n",
            "{123}의 자료형: <class 'set'>\n",
            "True의 자료형: <class 'bool'>\n"
          ]
        }
      ],
      "source": [
        "d1 = 123\n",
        "d2 = '123'\n",
        "d3 = [123]\n",
        "d4 = (123,)\n",
        "d5 = {'key':123}\n",
        "d6 = {123}\n",
        "d7 = True\n",
        "\n",
        "print(f\"{d1}의 자료형: {type(d1)}\")\n",
        "print(f'{d2}의 자료형: {type(d2)}')\n",
        "print(f'{d3}의 자료형: {type(d3)}')\n",
        "print(f'{d4}의 자료형: {type(d4)}')\n",
        "print(f'{d5}의 자료형: {type(d5)}')\n",
        "print(f'{d6}의 자료형: {type(d6)}')\n",
        "print(f'{d7}의 자료형: {type(d7)}')"
      ]
    },
    {
      "cell_type": "markdown",
      "source": [
        "### [실습문제] 반복문을 이용하여 자료형 출력하기\n",
        "위 자료형을 아래 미션에 맞게 출력해 보세요."
      ],
      "metadata": {
        "id": "H7bSljnRIERc"
      }
    },
    {
      "cell_type": "code",
      "execution_count": null,
      "metadata": {
        "id": "gbzIvlUi8GGR",
        "scrolled": true,
        "colab": {
          "base_uri": "https://localhost:8080/"
        },
        "outputId": "1702b8dc-b93c-43a5-8843-1437527b4bca"
      },
      "outputs": [
        {
          "output_type": "stream",
          "name": "stdout",
          "text": [
            "<class 'list'>\n",
            "데이터: 123의 자료형은: <class 'int'>\n",
            "데이터: 123의 자료형은: <class 'str'>\n",
            "데이터: [123]의 자료형은: <class 'list'>\n",
            "데이터: (123,)의 자료형은: <class 'tuple'>\n",
            "데이터: {'key': 123}의 자료형은: <class 'dict'>\n",
            "데이터: {123}의 자료형은: <class 'set'>\n",
            "데이터: True의 자료형은: <class 'bool'>\n"
          ]
        }
      ],
      "source": [
        "# [미션] 리스트와 반복문을 이용하여 간단하게 나타내기\n",
        "datas = [123,'123',[123],(123,),{'key':123},{123},True]\n",
        "print(type(datas))\n",
        "\n",
        "for data in datas:\n",
        "    print(f'데이터: {data}의 자료형은: {type(data)}')"
      ]
    },
    {
      "cell_type": "code",
      "source": [
        "if isinstance(123, str):\n",
        "    print('123은 정수')\n",
        "else :\n",
        "    print('123은 정수가 아니야')"
      ],
      "metadata": {
        "colab": {
          "base_uri": "https://localhost:8080/"
        },
        "id": "7iHeuPGo94bJ",
        "outputId": "d5c42710-8287-4308-f8ef-8ab7b27c76ff"
      },
      "execution_count": null,
      "outputs": [
        {
          "output_type": "stream",
          "name": "stdout",
          "text": [
            "123은 정수가 아니야\n"
          ]
        }
      ]
    },
    {
      "cell_type": "code",
      "source": [
        "# [미션] isinstance()함수를 이용하여 데이터 타입 확인\n",
        "def get_datatype(data):\n",
        "    instance= {int:'정수', float:'실수', str:'문자열', bool:'불린',\n",
        "           list:'리스트', tuple:'튜플', dict:'딕셔너리', set:'집합' }\n",
        "    for key, value in instance.items():\n",
        "        if isinstance(data, key):\n",
        "            print(f'{data}는 {value} 형입니다.')\n",
        "\n",
        "for data in datas:\n",
        "    get_datatype(data)"
      ],
      "metadata": {
        "id": "PMDfoepfF7K4"
      },
      "execution_count": null,
      "outputs": []
    },
    {
      "cell_type": "markdown",
      "source": [
        "### [표준입출력]"
      ],
      "metadata": {
        "id": "Qv7p8JOYJdMf"
      }
    },
    {
      "cell_type": "markdown",
      "metadata": {
        "id": "EDFiaZyv8GGR"
      },
      "source": [
        "### 실습문제\n",
        "두 수를 입력 받아 덧셈, 뺄셈, 곱셈, 몫, 나머지를 출력하는 프로그램을 작성하세요\n"
      ]
    },
    {
      "cell_type": "code",
      "execution_count": null,
      "metadata": {
        "id": "a9sG7Q738GGS",
        "scrolled": true,
        "colab": {
          "base_uri": "https://localhost:8080/"
        },
        "outputId": "78c72049-3aca-4cb9-8254-b6612ef65dda"
      },
      "outputs": [
        {
          "output_type": "stream",
          "name": "stdout",
          "text": [
            "첫번째 숫자: 50\n",
            "두번째 숫자: 3\n",
            "--------------------\n",
            "덧셈: 50 + 3 = 53\n",
            "뺄셈: 50 - 3 = 47\n",
            "곱셈: 50 * 3 = 150\n",
            "나눗셈: 50 / 3 = 16.666666666666668\n",
            "몫: 50 // 3 = 16\n",
            "나머지: 50 % 3 = 2\n"
          ]
        }
      ],
      "source": [
        "num1 = int(input('첫번째 숫자: '))\n",
        "num2 = int(input('두번째 숫자: '))\n",
        "\n",
        "print('-'*20)\n",
        "print(f'덧셈: {num1} + {num2} = {num1 + num2}')\n",
        "print(f'뺄셈: {num1} - {num2} = {num1 - num2}')\n",
        "print(f'곱셈: {num1} * {num2} = {num1 * num2}')\n",
        "print(f'나눗셈: {num1} / {num2} = {num1 / num2}')\n",
        "print(f'몫: {num1} // {num2} = {num1 // num2}')\n",
        "print(f'나머지: {num1} % {num2} = {num1 % num2}')\n",
        "\n",
        "\n"
      ]
    },
    {
      "cell_type": "markdown",
      "metadata": {
        "id": "LqAbyRHs8GGS"
      },
      "source": [
        "### 실습문제: 시간 계산 프로그램\n",
        "속력과 거리를 입력 받아 시간을 계산하여 출력하는 프로그램을 만드세요!\n",
        "- 시간 = 거리 / 속력\n",
        "\n"
      ]
    },
    {
      "cell_type": "code",
      "execution_count": null,
      "metadata": {
        "id": "YwepfYt98GGS"
      },
      "outputs": [],
      "source": [
        "velocity = input('속력를 입력해 주세요(km/h) : ')\n",
        "distance = input('거리를 입력해 주세요(km) : ')\n",
        "\n"
      ]
    },
    {
      "cell_type": "markdown",
      "metadata": {
        "id": "sHIxGA0xLj0C"
      },
      "source": [
        "- eval()함수 사용하여 문자열을 계산할 수 있다"
      ]
    },
    {
      "cell_type": "code",
      "source": [
        "eval('30+50')"
      ],
      "metadata": {
        "colab": {
          "base_uri": "https://localhost:8080/"
        },
        "id": "9Y-6ELp3DZMl",
        "outputId": "ada1c305-069f-449b-fdd1-2979dc277794"
      },
      "execution_count": null,
      "outputs": [
        {
          "output_type": "execute_result",
          "data": {
            "text/plain": [
              "80"
            ]
          },
          "metadata": {},
          "execution_count": 31
        }
      ]
    },
    {
      "cell_type": "code",
      "execution_count": null,
      "metadata": {
        "id": "gvVxuLjX8GGS"
      },
      "outputs": [],
      "source": [
        "# eval()함수 사용\n",
        "time = eval(f'{distance} / {velocity}')\n",
        "print(time)"
      ]
    },
    {
      "cell_type": "markdown",
      "metadata": {
        "id": "tECEWKan8GGS"
      },
      "source": [
        "### 실습문제 : 정수 합 구하기\n",
        "아래와 같이 정수 n을 입력 받아, a + aa + aaa의 결과 값을 구하는 프로그램을 작성하세요"
      ]
    },
    {
      "cell_type": "code",
      "execution_count": null,
      "metadata": {
        "id": "a04GPnn98GGS",
        "scrolled": true,
        "colab": {
          "base_uri": "https://localhost:8080/"
        },
        "outputId": "421e4169-1b92-4c5b-c102-02e50184ff7c"
      },
      "outputs": [
        {
          "output_type": "stream",
          "name": "stdout",
          "text": [
            "숫자를 입력하세요: 7\n",
            "7+77+777 = 861\n"
          ]
        }
      ],
      "source": [
        "a = input('숫자를 입력하세요: ')\n",
        "k = f'{a}+{a+a}+{a+a+a}'\n",
        "print(f'{k} = {eval(k)}')"
      ]
    },
    {
      "cell_type": "markdown",
      "source": [
        "### [문자와 문자열]"
      ],
      "metadata": {
        "id": "SHkqIiXbJXrR"
      }
    },
    {
      "cell_type": "markdown",
      "source": [
        "### 실습문제 : 문자열 거꾸로 출력하기"
      ],
      "metadata": {
        "id": "kc4LrgAHJw4f"
      }
    },
    {
      "cell_type": "code",
      "source": [
        "s = input('문자열 입력: ')\n",
        "print(s[::-1])  # [start:end:step] start<= index <end\n"
      ],
      "metadata": {
        "id": "_QpSs-GCJvyH",
        "colab": {
          "base_uri": "https://localhost:8080/"
        },
        "outputId": "0a2e6b48-ef97-4165-a7c4-f9c3297f163a"
      },
      "execution_count": null,
      "outputs": [
        {
          "output_type": "stream",
          "name": "stdout",
          "text": [
            "문자열 입력: 안녕하세요.!\n",
            "!.요세하녕안\n"
          ]
        }
      ]
    },
    {
      "cell_type": "markdown",
      "source": [
        "### 실습문제: 간단 챗봇 만들기\n"
      ],
      "metadata": {
        "id": "t1KHQyvnJrj3"
      }
    },
    {
      "cell_type": "code",
      "source": [
        "# 간단한 패턴이 있는 챗봇 만들기\n",
        "print('안녕하세요~')\n",
        "name = input('당신의 이름은 뭐예요?: ')\n",
        "print(f'만나서 반갑습니다. {name}님')\n",
        "print(f'{name}님의 이름의 길이는 다음과 같습니다.: {len(name)}')\n",
        "age = input(f'{name}님 나이는 어떻게 되나요? ')\n",
        "print(f'내년에는 {int(age)+1}세가 되시는군요!')"
      ],
      "metadata": {
        "id": "Fg-QYkDPJr14",
        "colab": {
          "base_uri": "https://localhost:8080/"
        },
        "outputId": "d4092090-9276-468f-f536-888195a965a7"
      },
      "execution_count": null,
      "outputs": [
        {
          "output_type": "stream",
          "name": "stdout",
          "text": [
            "안녕하세요~\n",
            "당신의 이름은 뭐예요?: 아이유\n",
            "만나서 반갑습니다. 아이유님\n",
            "아이유님의 이름의 길이는 다음과 같습니다.: 3\n",
            "아이유님 나이는 어떻게 되나요? 30\n",
            "내년에는 31세가 되시는군요!\n"
          ]
        }
      ]
    },
    {
      "cell_type": "markdown",
      "metadata": {
        "id": "Hb6l5EjLQB2m"
      },
      "source": [
        "### 실습문제 :  구글TTS(gTTS) 사용하여 음성 출력하기\n",
        "TTS : Text to Speech"
      ]
    },
    {
      "cell_type": "markdown",
      "source": [],
      "metadata": {
        "id": "MKZzJ2iCMu9b"
      }
    },
    {
      "cell_type": "code",
      "execution_count": null,
      "metadata": {
        "id": "-eY--f6MPwTf",
        "colab": {
          "base_uri": "https://localhost:8080/"
        },
        "outputId": "0755ee7e-23e5-4bdb-e232-1758bfa1f7be"
      },
      "outputs": [
        {
          "output_type": "stream",
          "name": "stdout",
          "text": [
            "Collecting gTTS\n",
            "  Downloading gTTS-2.5.3-py3-none-any.whl.metadata (4.1 kB)\n",
            "Requirement already satisfied: requests<3,>=2.27 in /usr/local/lib/python3.10/dist-packages (from gTTS) (2.32.3)\n",
            "Requirement already satisfied: click<8.2,>=7.1 in /usr/local/lib/python3.10/dist-packages (from gTTS) (8.1.7)\n",
            "Requirement already satisfied: charset-normalizer<4,>=2 in /usr/local/lib/python3.10/dist-packages (from requests<3,>=2.27->gTTS) (3.3.2)\n",
            "Requirement already satisfied: idna<4,>=2.5 in /usr/local/lib/python3.10/dist-packages (from requests<3,>=2.27->gTTS) (3.10)\n",
            "Requirement already satisfied: urllib3<3,>=1.21.1 in /usr/local/lib/python3.10/dist-packages (from requests<3,>=2.27->gTTS) (2.2.3)\n",
            "Requirement already satisfied: certifi>=2017.4.17 in /usr/local/lib/python3.10/dist-packages (from requests<3,>=2.27->gTTS) (2024.8.30)\n",
            "Downloading gTTS-2.5.3-py3-none-any.whl (29 kB)\n",
            "Installing collected packages: gTTS\n",
            "Successfully installed gTTS-2.5.3\n"
          ]
        }
      ],
      "source": [
        "# 구글 tts 프로그램\n",
        "!pip install gTTS"
      ]
    },
    {
      "cell_type": "code",
      "execution_count": null,
      "metadata": {
        "id": "O_xqpl0pPx6k",
        "colab": {
          "base_uri": "https://localhost:8080/",
          "height": 74
        },
        "outputId": "6193d53b-9b4b-4a1e-e790-2674713e0d87"
      },
      "outputs": [
        {
          "output_type": "display_data",
          "data": {
            "text/plain": [
              "<IPython.lib.display.Audio object>"
            ],
            "text/html": [
              "\n",
              "                <audio  controls=\"controls\" autoplay=\"autoplay\">\n",
              "                    <source src=\"data:audio/mpeg;base64,//OExAAAAAAAAAAAAAAAAAAAAAAAAAAAAAAAAAAAAAAAAAAAAAAAAAAAAAAAAAAAAAAAAAAAAAAAAAAAAAAAAAAAAAAAAAAAAAAAAAAAAAAAAAAAAAAAAAAAAAAAAAAAAAAAAAAAAAAAAAAAAAAAAAAAAAAAAAAAAAAAAAAAAAAAAAAAAAAAAAAAAAAAAAAAAAAAAAAAAAAAAAAAAAAAAAAAAAAAAAAAAAAAAAAAAAAAAAAAAAAAAAAAAAAAAAAA//OExAAla14MAMJGvS4iUppKt+UOw7kU/uMvp43bpJK/aAAhgoCDMhQ5BCKOrRt1qBBCsnKFIGIQgQEmQtRjwgpCaNufXR7X81EGb5pwtCc0AABEACPDgbnuLiO7/wvP9E+i+u51y9ELRH3Pd/CCC0ABCJ13d3eGiIhIILosyvm7u8Qg4uvu7xP3PocWkEHmQA9/WonmDwBOP6PwQMACN3R4egogBwEvJJFoIlr9xh2IjHoZi+IhjmmjSFlGd3HB//OExB0mYgo4AMsSmUEgKyQctRYsTnxsWBDLd7uNOMMOn6EDQ82tIVTCmBcC6IAQi2jkggsaJIe7Xby5IGIfEEG27momRk+3RQkmpCWZdMXPWMvdUYtHVkmI7gdaVAFWnmdyBJoB/VXHlsH+rJ0p/2ds8XV9t2vToj9XHat/4u/7KedeS3vx893aIDJzuLTYwROWIu/8NpfsnfysxBsLQz2MgngrhoiKCLgYyxhjilFKS9TQznNNDl0eqjMshZ/F//OExDY04vZUAMPeuICCGQtHIOBUkyFwFgOBc8/EJTbs/DlLGo0Mhui/o9Fo5kT5iFOOBhLe5qw/Dwa0fGVicex47yqrwwG4LAqEMYy4KUvaydbU0MB/ngp1HGZJmfE1VfZOVorKLtGXViLQuEyQ4UZ4yR042x87y/3mBKz7unFA8eQNSMjIr4+c33SmaRP8w38fd73tT/EQcCZCfYTKXh+mrT5RDb9sM366TBa2o+rO/Y4laHaz5OFRoWaBKGc9//OExBUq+nZ4AHvYuMhY/wWY+lSLQtDfThgL5kqeGuEo/Zy6H4qDsL+1KUudGcr1erVtrzRaUCsiQIBl6kjH4MBPKwgA39BJliivX15Yw5R9y7dtefLkKeWV2HxzctL2XCnmZRm9p5z4567lVzC/2liEpSLGztZSJDfyCm6/VJkT2w4ZOC8ODg0GiSzZ7QaMg5eEKyBxZwoLbmxXl0ul6Ljn3yGJyOfX2a9h6wIRNSHEE6rgQJMx15tw0V2xBHxD//OExBwsQmqAAMPYuITc9hek5G+XJ6PlJiXKBZZXA/lc3E4eGgT850QPtEJQ9FChTE8QqK/cnOLAUqGOWWBygltWS5MA6ZnB8UUzcWWZmtlTVlzeT1nO5mZsctWocmUMdLZDSP7b3X62MMP5FWaQStWz+xY5b3GJcvS1Z2KhlxUi8UcLMO7FpE6x1pEslU8KgaJ0PIC70oiUtGXiqmkM6r4lmaD14oOmLWA0er9eKlg42M5LS3YJfwQCoRDhYMoK//OExB4tQ3aIAN6KvNEdQwZo5BReqlUSUWFE4Kp0EZpYFMSRSjhmKN1VrM0Oa4+dIkM7DXY1M0krnX/rXZ+vHoc3uU09D3LCzFa9e1DcJjbDKtzP/B0KQrmHGcSIoupxYZIQYoTEhABBceRtSMdBwUggJpExBncaeYxx7Kws7jyKVr0/5+if/K9d9f+p31zkc8rDDKqOw0eFFIyJJZ/CIyEEPajGEWKdrBjagJSD/2IIS3M6XwxvciFWVTHjAY6j//OExBwty3qMAN5QvO3j9jLgA9STZpLoAIER/tAfct4Dlp6ikQry0qOxqctJi9aVSpDJxLONWq1qKfl8qazD9r9WJFr/3KHX/GZss9a5ewtYhMAQODclgWCJTKHhY/tjhRbcRAFwDnqYWhtLYQg4MEIWhWbUQxIXkHA1OF3GjDx0XzF//xMx8VHX/////9b9vHFQkuL8o6lIezwlHJ3tUj7GjQC1+In1Kqj5c7LQuFyhoNtFYFWMYgSgGSyhL/NV//OExBcts0qMAOaavFbjS8eG3bhUFCgiMPUDEcso40k6byONV39+qFBpKwYDAtWAo2kjb7yrZf+9/40sdw7/2n23z/uy3Ln9mYpY7qrxuMx30RqB3B5HsSKJcHCfQqSI51Cs6MIiicIockPZqSp0umJomal44PYkaNFmQdEqLx11LRYt6SX67av///+tBbOtkaKnWYGKBqo6USs8lWsydwcKvBsXcnt7/ZU2hqKSRXWexQVTL4AHXgVwUnjAqBDI//OExBMqm4KAAO1avECJW19peYAA2YiFmAdVg2EWIpl4DDI0C0RRLDWGbAxmigFDsOaXiiISgLAUGAknTJZYD0hhPSchppqpFXzEqeXn9J+kkZ1pJjhHQ0LyZUDeDmIOyI9S8pazUdpQMVJD6CcjJMUtbcyHsfXWyXpF5+//+igg3///TXQWi/qWkl/2UktFH7epdSVzBcIrIky7RVUtoawJVKLViTQ61V9hAV5wsCie79MrBwamC7kHagnBgLsq//OExBst3BpoAO5a3Z1oYGD0zFCJnV/SNoIKPsGBGvQUIARRQJac+K9ut4hVnves2nX991x1b3f1hB/fyw5T81/9rf+u40XO83q9W1jvKJwnOl9uTL5DXs9rzJ62PhSdZoWhQCdILs/6Xmbe76tv9XUiklZdH/9OpOio6coKpO7f7UEtbX9utI2P5qZF0yUyaSSSmMESiTDhkks4s3QSZHspNGUTJOfktmq7FrdE85ggCZtoEBMCLLmHCgOgVXhc//OExBYqLBp0AO0K3BQxKDIqgKmQouKCEYygC+di2RghMC1c6WCbIYLnA14UTMnDcoDWC5glnuiRRrKkXP0Kig1SaReZO60dD1LqM07zEWQThmX0SaGULjMuYEbULA73KAZnr8kSFJ7Rfs/db/T77p//9CMNQcPUTO6o1r9/ksx1oymSls4nEwoQZiuyoOKcXkEkQatULbNI5ZTMgxlOVaG1XlC8wsLgCdEeAhdcLZYDQ6ODRnAw0u5G1MBwCjJI//OExCAsO6aEAO5O3JwxIARickrxsQPBDkMQw6DdUWDhNavYuXVtv/D+XNU8Yxww/CH7+H63LLH/+6Sx//rPv/+8N65+Mo5n3j/NjXXL7dmap4xOYfmSB4JY3c0iAGAWLzhOIoyZY9Rwme6SB7z5Mwwzeef4+//T/zPtnnKTdibmuUsqHIr/f7f/ojMjoqFWdS8qx9wVOOJ3pplS45CZyxpn1EJMZyrkQU9tVuABJzrhUzkBUEjbOBIDMjPDsj4W//OExCInAeqQAN7SmBiF0ldeQMC1R5z1x/gKSKkfiX0r6pCttzPd2IuJP5/rUalljn6rkCDP9lDP7pdv+nunWcEQ6KFJhVATGNzdZUYhCMDQoAIKRCDgNtm07pWoMLxWTbOBZgXW5NDU/9T7I0HAyZHmDVIqLppXq/6yomWUWmp+8aAhgncPkuHMrKlQVmkRN6lavDIYw+NJFgphhKAMmQYNLgRJAbclibJQMvArsSgSxPF0PyAzsAO4RVJkRWog//OExDknw6qQANzU3ELaDscICVmfMi+aIaCZIeo6g3OIOgicJohRmCpKJBSqeN3pGKKSGZD4Vx+RkjCsAyIwhGcqam5EPigtiwYeQkLE7ecrrMrPq3///995hAYzOy/Rnbb/T////1PJXOv2DqRQ+IJJ6Lufb1G00yNTIlVv4vBC+kfjmcIMKX+UFiDWzEm04o8KAGRSiXxgQE4YYNRm4pZZ4FhmRWsd5Q031F+/3KYcw//3Eav//K09Y5//VnKU//OExE0lurqQAN7OuEAUAsXsOg9B6D1XoccNizammk6tAkBMH4/QHwjjcXuqjomYwfPNUaHon/dXOR2t////0c4oDoosJGgELTH/+r2UkqvQwYFC6o4loc7lWDFZRh9mEwa7TRKysgWEZlTsmNQmtppLlP2BAsxbXYfFo29srJCE7d9Jhf6j+t2e5YKKVKXe4BczX//Jqz+//cBW+///Vsa//rD2NNbGQN4ZBq+kSRpeoyM21KUU2RNS4mXQlyXN//OExGknOsaEAObauAvLMiSUqswJIcx8+a1F43b/tTdB0v////rs7mBeB0OnAMZBMzy3/sTseod20JGwgBYfY1aSxTCu+iDYEk49UlYFWIbiQBMFho2BTgV4gAAVLnsYCCgUTKQSVQhozYrwW/gYgABuvQIpxBzM0MydC/4tqjZJZiT7dccXu5Bu1AnfqPstFSAmwRyl1EwXVI7l81orSMx1ljyQkH4tAyTmm1PKs85DR6RHev9zaGJp////9lJy//OExH8nnBJ8AOUU3SJC49ah7OaSnOyq3//9fmdTJ761VTf//eqHyh5pHoK1VUSFa9Pq5MCgg1MCAFZkKVFDAAXAIaMVHs+3GjComV+lIiCIgmYdIpycvGNQUiqyqTvgWWCACuafrX7cPwNd7jvLDuO/1UpbP6/Pctx/+6qWsv/WsDrMxwAgAQBRcw8Xi8zqTLOx54+MjURTTxEBQQhYAIZNOdjiRxhgkDcajw+es3/oZt/////qdGo6RcaFoaU4//OExJMoCsp4AOcOuGu/11JkbdH/4qHCrgmqIQCT6noy4RgIBpoG0gCFKNLEcYwQE4w5QU6SE0xABV1S8Kc5g0Khn4LRj6BSxWLTYPgAEsGMWZDaMqHrfpH18Y8De/5X7xm1alJnL7+PjPxjGW1lmvBgo9CXt87jPdZr9Z1eW9hMJyRxI8ySdyBonCYmOESRFkOf/0dev////61PZzTRwTDdxwxDRqcff//Wk/dtvnP////NdUZXWSGkR2pYJp7///OExKUoFA5wAOvO3S7QKBhiYTh2EbYQQKl6JoFBEwkSo3c1U1QH8YAhWUGgYCQeMrRUBQ4A4MpCxN5IkJU1ewFsVT7cTafQ6NjftSNXPw3xa518XzbWcV3/vPz7+kGArn0PCsiW+qXpa3pNOrWGCJsHgiBRUqoI0jxIIBYqrf////////LKqLEhgwgmzIZ//+luV//////b1M4WUwsdVVZWHLlLjEQGJhUjKGNAB+RApCEAQwEQFDByCAMMpB4y//OExLclnAZoAOvK3DESYaEXGgNUwkEJgNhbGCAByCgZR4AKHA2BNTRWICvPUH84ZsrFAzz+V/PF1m8R7CZrapqFLqTOItfuta5znWvp5JmM2rltv4VrWtv3tPbEd7xQpbiqIJsh0KIkM1v//+6/////NRDxtxAgaBTmMiZK/9Vt3t/////9prjTsoiyUxY47SlJgMg2GIYd6YQwIQcAaYCYAggCEMN4yo0HhXxkCAIATYiWAIDAgCJMFACtX8dL//OExNMn7AZcAPPK3O5yksPXZBsAAQwyRC+U9GIYTQjdJnep5BPYfz/1lMRijjNXGvZuYbvYVsMdWM/3u7TzFPWfSBJLy1awYaOHKRrhwcERBwEEBYeJGRTFiRQsTFji+dvm//2u////b/nKRBofFAcokBC0mIpnWW86iaMH//+AEqMUCqjYp4gCdYs01Zw8AiYNoiJlyifCQa5gagPEwCBgmiUmaajeYTgFLNFtGAEAUYFQPhWB6ycDAFA4DUwl//OExOYsGypQAPZKvMOMBAziwoBZcZCCU5dXp7iCdlt+gjsZltWprDv4yyx3mt2+ay/DDL8rGPMo5LPwsX87ENUt7W+X9Y4Xs9Z7r/l+5fWyo3cyUGhYqgmHxOExxh70z2//9P/////dERhOg8WInmGjhEfLuhr7diJ5jGKd9////t3/c90YcSbqiL+StxTC12zGMBDAYFzDwGTGgHDRnMza1uAchw8CIqCxhkSxWaSjKxhEAxhUTxtkWZiKBA4I//OExOgsa/ZcAPYO3QQTNzBPaZM4MQCAEKtJUbU/gBkCocpyIMoiuOE25dndSrD+Fh940987UZQCASeEWopuldCR3ssJXUyy3+P7/eX77b13+YayrYWK9gTBBQVGi40TGC7hMLAEUBQGBRcQdBRl//7/////+1UOLCAkLK7io4SIwnTTo2yP0Wf/+T3vV6EaepGU5hQgmw0MeIR4QpLFX8SPMDEDMhQJCgBGA4UmFgKGI09mOoPhAeJjDACmPpSg//OExOkxc/pkAO6K3KIkQgAykRAOYsgkTCgJAM1gVBjXiw+syGlVFMRABki0BlRXcraMXdmZA7bdmu3reTc7m5JAi06KmfF9yqBONGY1nSS36bK5e/LV3+f93f8/Wv/eu/+s//9Z8/1GhEUGhGL3PQaDztFDM5hQaDdSg0b///////9tDT7VU2h9/6NY8//mbW6n8/9EPPmFDBYIhMuNyImEdhQaRI/WPrNLOMvMiOw1bRUEJSYIGngJxPvFBAxZ//OExNYvs/p0AO7O3AQnFdIRDsBfdYc1ZPidpw30N1YgaApWlsA4KMjyzOgtECVICzPQl74fnHaBw3UvLBmFkaMc42BJ8IJbeGTWWs02OON3Dv6q4Y/nln//l//+P//8/+fl//c7/+VWqBCGjFUXsXkAuzOPg5NMQcB/dChD3////9TTTDTFMohzocYcPMqT7/+3ZqI26dGddlHmQ9DmMVSzsxpjNRjlEkigFOv9eqqkrTLhGDjgDoFEUKASGzBX//OExMouU954AN7O3GDCIej6vwoDDB1ELAGvPsyI2NRVtLDchOsDaAxtpAqbOPcWKk8+AwPCxaB42xxk4lzjdAwswxsaRs9hmWvBPb127e//x7//r+fiX///6ffVBedQEq6HPGKBqLFkHjxh3b/////lpHnRo3RA8yxoLnHpH+KuV6UCxQ2QNKUbBk8Bh1WpHnpQ+BEqMrhYhAIMHQYNjdbuObAoWEa/kOpwFIgaKiwXXwqUw0t1JrufFZAQ81g2//OExMMkStp8AOaKuLEQQUOCDcBAxOsuShIA05TxUYecEjcFL5h9xPyJlBiktLLmqT3eZVL3/uY/f/nzX/l//v//88v/XXuumgzanWuTlMccNBLmQ6SampTkqkgYsLyCj6Zstd3/////fSOn1/zzTaxSWimbpGh9zSes/7dF11L2dklUiyYzNaqf6L1JBKigFSYw4AhlJgCBxgEFRkDHpm0HJECwOBgwHBEyYW8xFBUoBBfzdjILhC6H771myBnH//OExOQrw45wAOcavO20C4cfClkQWnSVAURDhnZm6V9CUQnJkAtATlMHTLHkJhMmxbJ3e7Nyzz+3Of/477/rOfsztXf9u/dnlDDRBnFBFiMCGYSD6c4+sbFKiARhz//////MnmOiGHz3QjLkh0kuTmKYpIZEaH9T4VrBITBIDNJw1FGYoouuQwjOIMWxmRgGFIGDgyOkUzNB0uQYAAOKh0ZSMoY3gw9StAIAcxxIsOBmHn3EYCb+PtBR2KoICDE1//OExOgqswZwAO7UuKnAMDoCXtMJMzqxxEtX7ZhAAhoqtxma6AuUjxVAMUmmMYb+tEP1+6fmtfNd/9Vv///u////995/5///r8ddSlVMQMORLBUIDS5pVCY1ZxqVGhw2GBw1jtv////6jjIRNL5xzRw48maIsw1SClSRx8x//TzbefKUVc1EeYx+UZv9ao1K3eRVMjlsBPVVxcUwcHTcF6NDhJlrDjAJROmikmDHyHgEwM7MOKlxM8RDMhaTAwxj//OExPAvW75sAO7O3A+QXNzi506AvKAlQYkECJtIhpfsRXoCScHIMzaReMKCy0zX47cUrWPA8QdyzSalAKjUJ0VW3T39/trsk4oQomcYMAwsQRGolFRiModZRhwk7//7Rgu+kutjESbXkbP8Wi44WKOCraJ9Wzv4BQaZKso6A2QhQMGO1GcXgIACCxAaKTXP5MJhgwQAUAwCBJi+dgYshwBnTEZfMoCYv+HAgDFQzDTwxemGgTOkIZMNgp7IGhwQ//OExOUmMfp0AObKmIBMEhIWAUpki8J5hzYZewRMZtrVIr4EAVIFZtUaASJC91lgYDwPhJHIlFmVxvtm92vlzn4Xdq7KhjOqED3dBOLxJAUNSg3EURTUYucTHBqRIGF7KzISHji7n98wxP///7mru9lvInG7No/TodRen/1o6KqkeeDHOox/F+3Wq3WhlrwEgdMPvwWIaqhYCJmeMnPzgMgMECYxIMj2y2MNgsHAwwSRTQZhNynQSBxgwADooOwN//OExP8ym35oAOcOvceJSQRM1RTp8s4coSlVVMFCygFiNE5bJ2vUu4k7M7fp5RGbExOw1TW6leGoes35h/oJYjEVblrQbStWeZwHEjc1KMb/OXt65vustf3nc9VftS8wIh3UhWZ0GKJuKoUSD4sU9iKkY50KYyhwTONdv////snbza00////////767kEzAnSnLcVyjBAoOHDEaCLdAsOjlCxMQgJhJhUgnK86a2F4cGBIjEcyZ0niy2UBhjY8dI//OExOct6+psAObK3HpjweXTM/pzH3AyMCfhdo0KOLKbK6H6rZQ3LaX43eq7pM+YVLuN7DLK+91Tb3RB0lEoeiCGsuEGGYbroFhu9e2Vds5ZPCjz2x7H3f7k6Yx8KFS6dOTUZ30xT7ayZvVMmv/2kv/////stgkDhOpVF7mxGEIkbYB7GwYBjIlUMNhACBAxCKTQf/NmogABECAgwwEDFYuEYDJQ80sxPiizPBEwEdNf0Q5QMYGwQFGIghkwyEBs//OExOIm0i5wAObWmBbJkUXVp4s71qpLabvKtbHO5vHO53Hmd7v17GXML/52H254jKwIo3xuC5DgTqibWOe7rM8s2otLNzW3Ob5ndMG7a16XdwG1nY6SqJQRmdlnaMxXivZKOswMagVZbySnN3//1vWIF00M///8qNAxmlbWvIkmazoEWEmAYgF4K95gQEAAGBUWnAnAYtC5dkhDxMqlpgADGoup1iGYkEhcgM+WzTSh8UQRRAAwyXQFAAsq02Wy//OExPktIjJkAObeuOcWlwlkuy7hlnuvZvYVbO9Va2sbXcuZd/uPMK5riTcBlfORzGAP80jYQl25oXM1QojPBlbHrYW1PnVHb5Mf4tDeZqzPnutTWlTrhhlUrhEjbpbVc3mjPmrbrv//oFwCA7oqt5b//R6KxclVlqlgjBZhzFmQgeKAYxW1zXwqMAAUwCPzZdjOLG0wYAzLbROHqgxeBhUKGUlQZqIphwFmDSuOxQ6tEFi8KkxohuGEJZcAgkNQ//OExPcrijJkAObeuGQY12HeTe8Ll3nO44/39Zbx5v9cyx3lvf5Z7yx/mO8blrlmrEp6IzDszkNtMgdm7+P5y/M5Vo4ajQD5hxFlSB9BmWgkhWoxWZHHNydMVppomxiYl067KdyiUTQny8aLdn01f///0PTfTZJTr841f///+/apCrUg1F0y4aaGddp9joFAsIRbIQOYXtZogYkQwKh9NLEoWCpCJDdyHGimgNEQ0Ax7YqpMxszTKwrBsQIVA8Qs//OExPsxc9pcAObg3TgCSAaQkaTBWE+onSaSY5s+t3ZFqtXbdGtW6LWZTr0knMEibOlwrKJ00LqBNGaZcH8NogjcXiiXTqbqf0Ej51BBlGx8n2RMnc6zIMkcmqDmA9SkaFxa1qd/1v//VrehbWzqf9L////r3dHSXdFqjM0l4qNDcujBypajEYAOHUXYkSgIHOoVQg7Fh0waNO+UTJBkLpB1bQEIzqgkYMjBmcxAxkaSvMgy+AeRghxI+w1UiOSR//OExOgrG95cAOUa3ULJoVCHmJwwTWbpM6ZxbqQZNOru7MpF6aa3066qBhSTLjlQ2UcpJKZBCzE1kSCtaXaiCnkiWpYQyII9J0RyoJJYSwo5I6UZLVatR9fWvbz3ufY//792uY0IosvCyZxBFJvpn1nt47/t///GfX+e/v/+/xH27z9tf7dJUVOp3LL0VbKiANVHjbJxjgA1YgeBOICAaBtyVVXdrQE/9qOw7cNoWeQgkjUhVq8pVbKt3IKXcFNj//OExO4uy9pYANxM3G+BqpdT1iXU+yjuXJ271b22nktomWVHTtnItGe0E5NbSEPcQraiLsg3BtI0gmZjvZms+bc2ZXkpwLTnfJXOY2PvjMZCWdn5ZUueW8ik8NOeJWQO7GtHdt15bJORuzntpad6BMq00EzPGRXaWhBELyNIPjTWf1Ol0JMS49VSPXZ42SykZGR8PghESl8afqyJq8+uKyfwzwiIyecdgpFGju1EEJoydufk+f8GEENyCBAxnqe1//OExOUrVA5cANJM3dcVisoSVOc0b9bRoEEPiUKQJBhNt1lCBiTCMVieQoMelGSMn816fOakZr2oCYbkgv5Cy5PsIRIxW/evOcNnvUFBJD+54x10c1ECB8LbXegtt1Mr7Bep5chQxDYUjlBTL354VPZz8JQqH/hlz2EZEDCU015tyQQ3Z328MxACXkVZAYSBq9LegKRuSyIvkja4jYYYvwzRYxWU0tICdqf0OVxi7Vpip65ytMFyTqajN2bPXqhV//OExOotZAZsAHpS3TG8J3mB8T2nqwq5XPn181+JNTtrAXCcJUZOGV6pXl8vcPavXuoMGjwdIKNMfpFXstXpC0JTzRl6kUjQrNxtAJRjAUjY5NZXEpw6JxKO0IyfYPTo+jl1mhKPTkxi+vbVdHrMTLta1rkwGT1rZaF3PaXP+6ytZi9lbLPNPVn0r2GUdasutLe2v1m1mrR16dmWl1ml1mnt+02suMo6zO1r1vmazM67CRHoS606PTFqN0MvZBLW//OExOc2NDJsAMPY3X7+LNjccgaIXUR2LqEqm1le89jdOVWth1Tj6NxRIUvHuW0nqojvcb8S0XEu4O6VrTD2+7W8xKDzYEkE0kglABEU0OWSjOuOZbXXNOUcVEQjti2RNHrruUXG4+qNOlxNTOj0vDm06rg2tZ0Ruc9ruEq+v+o/qOHc1/DZ6nUuAmGFIVuO5GszK6gq6tZU70oVcXFbaIPRK2VJzKmlrbKHNsXChlkr7/BL6XQnSvYVgyi5MMRX//OExMEm6upMAMPWuG6xYSuhqY0nJUnsLcc2FWjH7yPJmA+fViw8ZguPrbMK0bXMNIBJZ1onEt3ab1ndv/63ZswtacNnZkrns5FLUUklC0SQTLqvl0cra/fNOBJ9I07UfoQsRExEJwMExdAlB8q4SJNMChVQdGDhZT3dLUBUXtJs6GK9FVLAf5+tu9DcO0VqbYi7SRpeFqEnetnMWcl3YZYVLRtSsdxiq2Llh04tqhcVUzU2iiFEFQpUsevjW7Sw//OExNgnGkI0AMPMuGLbcWLu1sxOrVK8Kk5iTQ9R9Uk3WtPmHTW/i1t4ua2MG8mCECqLZEOqjTF0s0qYJcRRWoOuTBtVnSh5yGwdDKqkStnvRZdxKJD0NHt0zIvWxJu6h79VWnqd9kbWMh3Wy5JxqmonFujXETbK3Dtdy00nKTNRYsVWbVtV4gE6TgurBMr7V5OxX6tepMz9uctR6v+oCAXQjcEE1ZukejTdFTF5hE5Afcyts3TSp7CH/JZGracF//OExO4tfAoYAMPQ3UVE02opzTqDCi/v1lW+EZ8saWyqh7lDJ0lrHYclLHVWJZzGu1mps27uJOjB+osBE4nTaiE6ZGUdzm0lDubISW5zpY5X1ZRxyRUHeMj4csk1VD/OmUab50kfdqeUCp5M2jnTRgy7t0jEZxOs31iC40t4PxGykQ0XZhEWlsppecl1bPGW495BTbSF9n+h5CBJFhEjcgUshw8uo9RZg0hMIndWc1rtgok5ZOFIOts4pcKkpaEm//OExOsrbBoMAMpM3eVxmpfjdPdilNSaSrDqq84sxhsUoKGiJZqkSLKu5/vWaUWlUlm4sKtqoXXCWLRSuUdntRgTNKagRFUN9FSjMWWabnONS16lNVS0G2Eusfqp+TS8a9RrI5dahdBtyaHKdTbWteVXF6asYRiTq2qUYYQMQxnM7FYONIJJpJDsFSvazly5jdy7v9XN18Y5EZ+5TTlRHVGJkZJsqPMkxycUaIwSIigwypc118fKahKO1J8CJw7S//OExPAulCn8AMpS3Y3VzXWUVnrr3+CBz5T1TZzbSgwSsjjzYoUNSZ4NRKqEeonD2jTCRdIKeB+8Sp9TVEQxz7PNIWMHygqOKU5yz7EBybSWOo+7EAx7QQGhj2Lh3WrorWhYhDXGTEyLOSVqTJbqcs3EDNzsli8oqy3ECYgVLTD4ggkqKJx2eNgpE5Y6qTly7S1eUlrdrW5RS0VHQIUYpIyJQVyLrypUiImUZw2RmUZUzNkTyICr9YjGJCKGSY40//OExOgsRDn4AMpQ3GVTvMqMndYFUO9DgfhIqlZLIgW6pCvqpUDGFThqSceKhtrCtpHP9NdK+8RtQSSNIEjUYQY1FLCFWs4mVZ/9HFZfUe8zpPqTPr5CH36k8Fl0kdheBrPNRqG+ym0Q23O2WHVp8m7S9MtW2eqofddL7yzcovC3NZHi+sfp9O6UMW4jGWrlS/jKbk53O7dqWKW9Rau15SOPJsjc06RiIVZiFCCydmnnYta6KhdjDgWSQSiHoqup//OExOotfDn0ANJM3AqIqk2ydlKmooSVRpR6x9qbzp6+gWnSMokiBMk1BN1G7GGNVSZkJ3THNuDrSPQJbisLkrHS2vBLYst6gmE5kapNj0Ppq7LTPPINAxGD+bmrrucGhLTi/R5KOXpRZmK+ykptdbUyJuvKJAinrqIRFt+TLuZtklU/jLwr2+ZM9GopGd/CpvCpylx1R5U8vmqlutj1CTxUkGehN2ysKliIrYZeySGRSSoWTSObxY429sKmw8Sy//OExOcslDX0ANJM3D7FWhp72inRMWHsUbhGly15CXks2ws7UN6RMhy5J7RsEj0oA8u0PKTU4ekiaJ+o5WtjIPV3UyvLMK/yUaJoUhyW6mx2ymy5SsoCSSDEXS/9R8weyMzJ4mzW5j0TdiBTm0kURUQai41aB+ZSCkZrInFJv//D5Mx+mcVjd3OdZWo4bR2WFZc4sHxSB4AikflEdoM+ztunnKekLkB9ZOWuaiQshUkguSul1ShqdTZwiXgiSbdq//OExOcslDH0ANJM3cuo3lXFCKSVCk9aUSxqMlYFm8vq0QoGEUrZq8qTUWS51z5NInaz5IocRx5wlCUxUlJNNU6PlnoltTnOqWSfNmSNUaRhLNz7jkcayM83MOv+Zmf/LNSRsXh1ubLkc7kXhI3KfEtz82NiyRJ2fHlv+8xVb+bDlVTmw8V+dtU39ixSYxxjglrEF06Fb07EplK1qMWaazphqqyiqsrAGvvwDYRAoAoLB4jSOlEbE0iy54mQoiER//OExOcrzDnwAMJM3AOg6ICcwaZREIiGi6BGw27fK8lGrq7huSuUViyajbpRq9jW///b7sioqk7OVEXqZUReqKiP1RUTuUwiMGKiookIhIYJkOimERgw5KKijEOSzlRf/9UVEdnKYREgiERATIch0URQ7PoqoqKimEREQORymEYD/0EqTEFNRTMuMTAwqqqqqqqqqqqqqqqqqqqqqqqqqqqqqqqqqqqqqqqqqqqqqqqqqqqqqqqqqqqqqqqqqqqq//OExOorXBGUAMpK3aqqqqqqqqqqqqqqqqqqqqqqqqqqqqqqqqqqqqqqqqqqqqqqqqqqqqqqqqqqqqqqqqqqqqqqqqqqqqqqqqqqqqqqqqqqqqqqqqqqqqqqqqqqqqqqqqqqqqqqqqqqqqqqqqqqqqqqqqqqqqqqqqqqqqqqqqqqqqqqqqqqqqqqqqqqqqqqqqqqqqqqqqqqqqqqqqqqqqqqqqqqqqqqqqqqqqqqqqqqqqqqqqqqqqqqqqqqqqqq\" type=\"audio/mpeg\" />\n",
              "                    Your browser does not support the audio element.\n",
              "                </audio>\n",
              "              "
            ]
          },
          "metadata": {}
        }
      ],
      "source": [
        "# 영어 출력\n",
        "from gtts import gTTS\n",
        "from IPython.display import Audio\n",
        "\n",
        "eng_wav = gTTS('Hello World!')\n",
        "eng_wav.save('eng.mp3')\n",
        "\n",
        "display(Audio('eng.mp3', autoplay=True))"
      ]
    },
    {
      "cell_type": "code",
      "execution_count": null,
      "metadata": {
        "id": "inyZATWlP3Cp",
        "colab": {
          "base_uri": "https://localhost:8080/",
          "height": 74
        },
        "outputId": "4164f3d5-88c4-4773-f7bc-e4b3b253cc2c"
      },
      "outputs": [
        {
          "output_type": "display_data",
          "data": {
            "text/plain": [
              "<IPython.lib.display.Audio object>"
            ],
            "text/html": [
              "\n",
              "                <audio  controls=\"controls\" autoplay=\"autoplay\">\n",
              "                    <source src=\"data:audio/x-wav;base64,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\" type=\"audio/x-wav\" />\n",
              "                    Your browser does not support the audio element.\n",
              "                </audio>\n",
              "              "
            ]
          },
          "metadata": {}
        }
      ],
      "source": [
        "# 한글 출력\n",
        "from gtts import gTTS\n",
        "from IPython.display import Audio\n",
        "\n",
        "kor_wav = gTTS('안녕하세요! ', lang = 'ko')\n",
        "kor_wav.save('kor.wav')\n",
        "\n",
        "display(Audio('kor.wav', autoplay=True))"
      ]
    },
    {
      "cell_type": "code",
      "source": [
        "from gtts import gTTS\n",
        "from IPython.display import Audio, display\n",
        "import os\n",
        "import time\n",
        "\n",
        "def text_to_speech_from_file(filename):\n",
        "    with open(filename, 'r', encoding='utf-8') as file:\n",
        "        for index, line in enumerate(file):\n",
        "            line = line.strip()\n",
        "            if line:  # 빈 줄은 건너뜀\n",
        "                # 텍스트를 음성으로 변환\n",
        "                tts = gTTS(text=line, lang='ko')\n",
        "                audio_file = f\"temp_audio_{index}.mp3\"\n",
        "\n",
        "                # 음성 파일 저장\n",
        "                tts.save(audio_file)\n",
        "\n",
        "                # 음성 파일을 재생 (IPython.display.Audio 사용)\n",
        "                display(Audio(audio_file, autoplay=True))\n",
        "\n",
        "                # 음성이 끝날 때까지 잠시 대기\n",
        "                if len(line) > 12:\n",
        "                    time_sleep = 3\n",
        "                else:\n",
        "                    time_sleep = 2\n",
        "                time.sleep(time_sleep)  # 음성 길이에 따라 조절 가능\n",
        "\n",
        "                # 파일 삭제\n",
        "                os.remove(audio_file)\n",
        "\n",
        "                if index > 10 :\n",
        "                    break\n",
        "\n",
        "# 텍스트 파일 경로를 지정하세요.\n",
        "text_to_speech_from_file('사건의지평선.txt')\n"
      ],
      "metadata": {
        "id": "VdNYWRldOWow",
        "colab": {
          "base_uri": "https://localhost:8080/",
          "height": 700
        },
        "outputId": "5d135382-c854-4fdf-c2fe-56d8036d4e09"
      },
      "execution_count": null,
      "outputs": [
        {
          "output_type": "display_data",
          "data": {
            "text/plain": [
              "<IPython.lib.display.Audio object>"
            ],
            "text/html": [
              "\n",
              "                <audio  controls=\"controls\" autoplay=\"autoplay\">\n",
              "                    <source src=\"data:audio/mpeg;base64,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\" type=\"audio/mpeg\" />\n",
              "                    Your browser does not support the audio element.\n",
              "                </audio>\n",
              "              "
            ]
          },
          "metadata": {}
        },
        {
          "output_type": "display_data",
          "data": {
            "text/plain": [
              "<IPython.lib.display.Audio object>"
            ],
            "text/html": [
              "\n",
              "                <audio  controls=\"controls\" autoplay=\"autoplay\">\n",
              "                    <source src=\"data:audio/mpeg;base64,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\" type=\"audio/mpeg\" />\n",
              "                    Your browser does not support the audio element.\n",
              "                </audio>\n",
              "              "
            ]
          },
          "metadata": {}
        },
        {
          "output_type": "display_data",
          "data": {
            "text/plain": [
              "<IPython.lib.display.Audio object>"
            ],
            "text/html": [
              "\n",
              "                <audio  controls=\"controls\" autoplay=\"autoplay\">\n",
              "                    <source src=\"data:audio/mpeg;base64,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\" type=\"audio/mpeg\" />\n",
              "                    Your browser does not support the audio element.\n",
              "                </audio>\n",
              "              "
            ]
          },
          "metadata": {}
        },
        {
          "output_type": "display_data",
          "data": {
            "text/plain": [
              "<IPython.lib.display.Audio object>"
            ],
            "text/html": [
              "\n",
              "                <audio  controls=\"controls\" autoplay=\"autoplay\">\n",
              "                    <source src=\"data:audio/mpeg;base64,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\" type=\"audio/mpeg\" />\n",
              "                    Your browser does not support the audio element.\n",
              "                </audio>\n",
              "              "
            ]
          },
          "metadata": {}
        },
        {
          "output_type": "display_data",
          "data": {
            "text/plain": [
              "<IPython.lib.display.Audio object>"
            ],
            "text/html": [
              "\n",
              "                <audio  controls=\"controls\" autoplay=\"autoplay\">\n",
              "                    <source src=\"data:audio/mpeg;base64,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\" type=\"audio/mpeg\" />\n",
              "                    Your browser does not support the audio element.\n",
              "                </audio>\n",
              "              "
            ]
          },
          "metadata": {}
        },
        {
          "output_type": "display_data",
          "data": {
            "text/plain": [
              "<IPython.lib.display.Audio object>"
            ],
            "text/html": [
              "\n",
              "                <audio  controls=\"controls\" autoplay=\"autoplay\">\n",
              "                    <source src=\"data:audio/mpeg;base64,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\" type=\"audio/mpeg\" />\n",
              "                    Your browser does not support the audio element.\n",
              "                </audio>\n",
              "              "
            ]
          },
          "metadata": {}
        },
        {
          "output_type": "display_data",
          "data": {
            "text/plain": [
              "<IPython.lib.display.Audio object>"
            ],
            "text/html": [
              "\n",
              "                <audio  controls=\"controls\" autoplay=\"autoplay\">\n",
              "                    <source src=\"data:audio/mpeg;base64,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\" type=\"audio/mpeg\" />\n",
              "                    Your browser does not support the audio element.\n",
              "                </audio>\n",
              "              "
            ]
          },
          "metadata": {}
        },
        {
          "output_type": "display_data",
          "data": {
            "text/plain": [
              "<IPython.lib.display.Audio object>"
            ],
            "text/html": [
              "\n",
              "                <audio  controls=\"controls\" autoplay=\"autoplay\">\n",
              "                    <source src=\"data:audio/mpeg;base64,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\" type=\"audio/mpeg\" />\n",
              "                    Your browser does not support the audio element.\n",
              "                </audio>\n",
              "              "
            ]
          },
          "metadata": {}
        },
        {
          "output_type": "display_data",
          "data": {
            "text/plain": [
              "<IPython.lib.display.Audio object>"
            ],
            "text/html": [
              "\n",
              "                <audio  controls=\"controls\" autoplay=\"autoplay\">\n",
              "                    <source src=\"data:audio/mpeg;base64,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\" type=\"audio/mpeg\" />\n",
              "                    Your browser does not support the audio element.\n",
              "                </audio>\n",
              "              "
            ]
          },
          "metadata": {}
        },
        {
          "output_type": "display_data",
          "data": {
            "text/plain": [
              "<IPython.lib.display.Audio object>"
            ],
            "text/html": [
              "\n",
              "                <audio  controls=\"controls\" autoplay=\"autoplay\">\n",
              "                    <source src=\"data:audio/mpeg;base64,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\" type=\"audio/mpeg\" />\n",
              "                    Your browser does not support the audio element.\n",
              "                </audio>\n",
              "              "
            ]
          },
          "metadata": {}
        },
        {
          "output_type": "display_data",
          "data": {
            "text/plain": [
              "<IPython.lib.display.Audio object>"
            ],
            "text/html": [
              "\n",
              "                <audio  controls=\"controls\" autoplay=\"autoplay\">\n",
              "                    <source src=\"data:audio/mpeg;base64,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\" type=\"audio/mpeg\" />\n",
              "                    Your browser does not support the audio element.\n",
              "                </audio>\n",
              "              "
            ]
          },
          "metadata": {}
        },
        {
          "output_type": "display_data",
          "data": {
            "text/plain": [
              "<IPython.lib.display.Audio object>"
            ],
            "text/html": [
              "\n",
              "                <audio  controls=\"controls\" autoplay=\"autoplay\">\n",
              "                    <source src=\"data:audio/mpeg;base64,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\" type=\"audio/mpeg\" />\n",
              "                    Your browser does not support the audio element.\n",
              "                </audio>\n",
              "              "
            ]
          },
          "metadata": {}
        }
      ]
    },
    {
      "cell_type": "markdown",
      "metadata": {
        "id": "3UTLuSAp8GGY"
      },
      "source": [
        "--------"
      ]
    },
    {
      "cell_type": "markdown",
      "metadata": {
        "id": "fmU7O8WS8GGY"
      },
      "source": [
        "### **[연산자]**"
      ]
    },
    {
      "cell_type": "markdown",
      "metadata": {
        "id": "eRCyhgwS8GGY"
      },
      "source": [
        "### 실습문제 :  동전 교환 프로그램\n",
        "동전교환 프로그램을 작성하세요"
      ]
    },
    {
      "cell_type": "markdown",
      "source": [
        "### 실습문제 : 비교 연산자를 이용한 상품 필터링하기\n",
        "아래 상품 딕셔너리에서 가격이 1000 이하인 상품을 필터링하고 상품과 해당 가격을 출력하시오."
      ],
      "metadata": {
        "id": "7GL-zafcQwDq"
      }
    },
    {
      "cell_type": "code",
      "execution_count": null,
      "metadata": {
        "id": "g8A7ErL78GGY",
        "colab": {
          "base_uri": "https://localhost:8080/"
        },
        "outputId": "6abf60da-7ca8-4f8c-b478-2424689064fe"
      },
      "outputs": [
        {
          "output_type": "stream",
          "name": "stdout",
          "text": [
            "---동전교환기 프로그램을 작동합니다.---\n",
            "금액을 입력하세요: 4321\n",
            "------------------------------\n",
            "500원짜리 ==> 8개\n",
            "100원짜리 ==> 3개\n",
            " 50원짜리 ==> 0개\n",
            " 10원짜리 ==> 2개\n",
            "잔돈      ==> 1원\n"
          ]
        }
      ],
      "source": [
        "# 키보드로부터 금액 입력 받기\n",
        "print('---동전교환기 프로그램을 작동합니다.---')\n",
        "money = int( input('금액을 입력하세요: '))\n",
        "print('-' * 30)\n",
        "print(f'500원짜리 ==> {money//500}개')\n",
        "money = money%500\n",
        "print(f'100원짜리 ==> {money//100}개')\n",
        "money = money%100\n",
        "print(f' 50원짜리 ==> {money//50}개')\n",
        "money = money%50\n",
        "print(f' 10원짜리 ==> {money//10}개')\n",
        "money = money%10\n",
        "print(f'잔돈      ==> {money}원')"
      ]
    },
    {
      "cell_type": "code",
      "source": [
        "print('---동전교환기 프로그램을 작동합니다.---')\n",
        "money = int( input('금액을 입력하세요: '))\n",
        "print('-' * 30)\n",
        "\n",
        "coins = [500, 100, 50, 10]\n",
        "for coin in coins:\n",
        "    print(f'{coin}원짜리 ==> {money//coin}개')\n",
        "    money = money % coin\n",
        "print(f'잔돈     ==> {money}원')"
      ],
      "metadata": {
        "colab": {
          "base_uri": "https://localhost:8080/"
        },
        "id": "En5L8U1Pj1Hh",
        "outputId": "3eae8e7f-7cb7-4115-fbe3-8582773de26c"
      },
      "execution_count": null,
      "outputs": [
        {
          "output_type": "stream",
          "name": "stdout",
          "text": [
            "---동전교환기 프로그램을 작동합니다.---\n",
            "금액을 입력하세요: 4321\n",
            "------------------------------\n",
            "500원짜리 ==> 8개\n",
            "100원짜리 ==> 3개\n",
            "50원짜리 ==> 0개\n",
            "10원짜리 ==> 2개\n",
            "잔돈      ==> 1원\n"
          ]
        }
      ]
    },
    {
      "cell_type": "code",
      "source": [
        "# 상품 가격을 가진 사전\n",
        "products = { \"apple\": 1000, \"banana\": 800, \"cherry\": 1500,\n",
        "            \"date\": 1200, \"elderberry\": 2000 }\n",
        "\n",
        "# 가격이 1000 이하인 상품 필터링\n",
        "print('가격이 1000 이하인 상품 필터링')\n",
        "print('-' * 30)\n",
        "for key, value in products.items():\n",
        "    if value <= 1000:\n",
        "        print(f'상품명: {key}  가격:{value}')"
      ],
      "metadata": {
        "id": "78IAx7VkQwW_",
        "colab": {
          "base_uri": "https://localhost:8080/"
        },
        "outputId": "9d9ac741-b238-4a71-a2d5-d6388df19a27"
      },
      "execution_count": null,
      "outputs": [
        {
          "output_type": "stream",
          "name": "stdout",
          "text": [
            "가격이 1000 이하인 상품 필터링\n",
            "------------------------------\n",
            "상품명: apple  가격:1000\n",
            "상품명: banana  가격:800\n"
          ]
        }
      ]
    },
    {
      "cell_type": "markdown",
      "metadata": {
        "id": "0SWp1LN08GGY"
      },
      "source": [
        "------"
      ]
    },
    {
      "cell_type": "markdown",
      "metadata": {
        "id": "x4FIhV_y8GGZ"
      },
      "source": [
        "## 3.조건문과 반목문으로 흐름 제어하기"
      ]
    },
    {
      "cell_type": "markdown",
      "metadata": {
        "id": "LPe_skHf8GGZ"
      },
      "source": [
        "### **[조건문]**"
      ]
    },
    {
      "cell_type": "markdown",
      "source": [
        "#### 조건문 구조 4개"
      ],
      "metadata": {
        "id": "HIFAD_kqX1uL"
      }
    },
    {
      "cell_type": "code",
      "source": [
        "# 조건식1: if 조건식\n",
        "a = 99\n",
        "if a < 100 :\n",
        "    print('a는 100보다 작군요')"
      ],
      "metadata": {
        "id": "d9jDMOjbX4hu"
      },
      "execution_count": null,
      "outputs": []
    },
    {
      "cell_type": "code",
      "source": [
        "# 조건식2: if ~ else\n",
        "a = 200\n",
        "if a > 100:\n",
        "    print('a는 100보다 크군요')\n",
        "else:\n",
        "    print('a는 100보다 크지 않군요')"
      ],
      "metadata": {
        "id": "9ehdd_YIYEus"
      },
      "execution_count": null,
      "outputs": []
    },
    {
      "cell_type": "code",
      "source": [
        "# 조건문3: 중첩 if - 조건문 안에 조건문\n",
        "a = 200\n",
        "if a > 100:\n",
        "    if a > 200 :\n",
        "        print('a는 200보다 크군요')\n",
        "    else:\n",
        "        print('a는 200보다 크거나 같군요')\n",
        "else:\n",
        "    print('a는 100보다 크지 않군요')"
      ],
      "metadata": {
        "id": "nOi_cwzoYE2u"
      },
      "execution_count": null,
      "outputs": []
    },
    {
      "cell_type": "code",
      "source": [
        "# 조건문4: 다중 조건문\n",
        "pocket = ['paper', 'handphone']\n",
        "card = True\n",
        "\n",
        "if 'money' in pocket:\n",
        "    print('택시를 타고 가라')\n",
        "elif card:\n",
        "    print('택시를 타고 가라')\n",
        "else:\n",
        "    print('걸어가라')"
      ],
      "metadata": {
        "id": "T_P0EQFeYFBE"
      },
      "execution_count": null,
      "outputs": []
    },
    {
      "cell_type": "markdown",
      "metadata": {
        "id": "Io13oQKLhgph"
      },
      "source": [
        "#### 조건부 표현식"
      ]
    },
    {
      "cell_type": "code",
      "execution_count": null,
      "metadata": {
        "id": "h0V6WqWchnTA"
      },
      "outputs": [],
      "source": [
        "score = int(input('점수를 입력하세요: '))\n",
        "message = \"success!\" if score >=60 else \"failure!\"\n",
        "print(message)"
      ]
    },
    {
      "cell_type": "markdown",
      "metadata": {
        "id": "Ar6JKwtB8GGZ"
      },
      "source": [
        "#### 실습문제 : 짝수 홀수 판별하기\n",
        "숫자를 입력 받아 짝수/홀수를 판별하는 코드를 만들어 보세요."
      ]
    },
    {
      "cell_type": "code",
      "execution_count": null,
      "metadata": {
        "id": "09w2BCcN8GGZ",
        "colab": {
          "base_uri": "https://localhost:8080/"
        },
        "outputId": "b272e293-7913-4da9-f327-e241cbff2f79"
      },
      "outputs": [
        {
          "output_type": "stream",
          "name": "stdout",
          "text": [
            "숫자를 입력해 주세요: 21\n",
            "홀수\n"
          ]
        }
      ],
      "source": [
        "x = int(input('숫자를 입력해 주세요: '))\n",
        "\n",
        "print('짝수') if x % 2 ==0 else  print('홀수')\n",
        "\n",
        "if x % 2 ==0:\n",
        "    print('짝수')\n",
        "else:\n",
        "    print('홀수')"
      ]
    },
    {
      "cell_type": "markdown",
      "metadata": {
        "id": "3SDdg7Aeg7MW"
      },
      "source": [
        "### 실습문제 : 커피 자판기 조건문\n",
        "아래 조건을 만족하는 커피 자동주문 머신을 만들어보세요.<br><br>\n",
        "[커피 자동주문 머신]<br>\n",
        "친구들과 현금 커피 자동주문 머신 앞에서\n",
        " - 아메리카노 2잔과 카페라테 2잔 카푸치노 1잔을 주문하였다.\n",
        " - 아메리카노 한잔에 2500원이고\n",
        " - 카페라테는 한잔에 3000원\n",
        " - 카푸치노는 한잔에 3000원이다.\n",
        "커피 종류와 잔 수를 결정한 후 현금 15000원을 투입하고 잔돈을 1000원 받았다."
      ]
    },
    {
      "cell_type": "code",
      "execution_count": null,
      "metadata": {
        "id": "BZlOMJHKg7dN"
      },
      "outputs": [],
      "source": [
        "menu = '''[커피 자동주문 머신 메뉴]\n",
        "------------------------------\n",
        "-아메리카노는 2500원\n",
        "-카레라떼는 3000원\n",
        "-카푸치노는 3000원\n",
        "입니다. 원하시는 커피종류와 잔수를 입력하세요.\n",
        "------------------------------'''\n",
        "print(menu)\n",
        "coffee1 = int(input(\"아메리카노 몇잔?\"))\n",
        "coffee2 = int(input(\"카페라떼 몇잔?\"))\n",
        "coffee3 = int(input(\"카푸치노 몇잔?\"))\n",
        "\n"
      ]
    },
    {
      "cell_type": "markdown",
      "metadata": {
        "id": "4RoolGBF8GGa"
      },
      "source": [
        "------"
      ]
    },
    {
      "cell_type": "markdown",
      "metadata": {
        "id": "G2T6Nybt8GGa"
      },
      "source": [
        "### **[반복문]**"
      ]
    },
    {
      "cell_type": "markdown",
      "metadata": {
        "id": "HuWJNA-T8GGa"
      },
      "source": [
        "### 실습문제 : 1~N까지 합계 구하기\n",
        "숫자를 입력받아 1~n까지의 합을 구할 때 짝수를 제외하고 합을 구하는 프로그램을 만들어 보세요."
      ]
    },
    {
      "cell_type": "code",
      "execution_count": null,
      "metadata": {
        "id": "t4NbQOOe8GGa"
      },
      "outputs": [],
      "source": [
        "n = int(input('합계를 구할 숫자 입력:'))\n",
        "hap = 0\n",
        "\n",
        "\n"
      ]
    },
    {
      "cell_type": "markdown",
      "metadata": {
        "id": "p7P0Vy-XjIBz"
      },
      "source": [
        "### 실습문제 : 나무 열 번 찍어 넘기기"
      ]
    },
    {
      "cell_type": "code",
      "execution_count": null,
      "metadata": {
        "id": "A1OSHn1tjNE5"
      },
      "outputs": [],
      "source": [
        "treeHit = 0\n",
        "\n"
      ]
    },
    {
      "cell_type": "markdown",
      "metadata": {
        "id": "iPCnjI9UkoHr"
      },
      "source": [
        "### 실습문제 :  커피 자동주문 프로그램 업그레이드\n",
        "앞에서 만들어 본 커피 자동주문 머신 프로그램을 while문을 이용하여 돈을 모두 지불할 때까지 돈을 입력 받도록 프로그램 기능 수정하기"
      ]
    },
    {
      "cell_type": "code",
      "execution_count": null,
      "metadata": {
        "id": "HtKho6P3kxtS"
      },
      "outputs": [],
      "source": [
        "menu = '''[커피 자동주문 머신 메뉴]\n",
        "------------------------------\n",
        "-아메리카노는 2500원\n",
        "-카레라떼는 3000원\n",
        "-카푸치노는 3000원\n",
        "입니다. 원하시는 커피종류와 잔수를 입력하세요.\n",
        "------------------------------'''\n",
        "print(menu)\n",
        "coffee1 = int(input(\"아메리카노 몇잔?\"))\n",
        "coffee2 = int(input(\"카페라떼 몇잔?\"))\n",
        "coffee3 = int(input(\"카푸치노 몇잔?\"))\n",
        "\n"
      ]
    },
    {
      "cell_type": "markdown",
      "metadata": {
        "id": "bBpYo7he8GGc"
      },
      "source": [
        "### 실습문제 : 도둑잡기 게임 만들기\n",
        "경찰에 쫓기던 범인이 3개의 방 중에 한 곳에 숨어버렸습니다. 범인은 방문을 열 때마다 무작위로 3개의 방 중 하나의 방으로 이동합니다. 3개의 방 중 하나의 방을 선택했을 때 범인이 있다면 100점, 없을 때 -10점을 부여하고 범인을 잡으면 게임을 종료하는 프로그램을 만들어 보세요."
      ]
    },
    {
      "cell_type": "code",
      "execution_count": null,
      "metadata": {
        "id": "Yjs0Tp0m8GGc"
      },
      "outputs": [],
      "source": [
        "import random\n",
        "score = 0\n",
        "\n",
        "while True:  # 무한반복\n",
        "    # 1.무작위로 범인 방 배치\n",
        "\n",
        "\n",
        "\n",
        "    # 2.사용자로부터 방 번호 입력 받기\n",
        "    n = int(input('방 번호를 입력하세요(1,2,3): '))\n",
        "\n",
        "    # 3.사용자가 입력한 방 번호와 범인이 있는 방 비교\n",
        "    # 4.범인을 찾으면\n",
        "    # 범인 체포“라는 메시지 출력\n",
        "    # 점수 증가\n",
        "    # 무한반복 빠져 나가기\n",
        "\n",
        "    # 5.범인을 찾지 못하면\n",
        "    # “범인을 찾지 못했다“라는 메시지 출력\n",
        "    # 점수 감소\n",
        "\n",
        "# 게임 종료 메시지 출력\n",
        "# 최종 점수 출력"
      ]
    },
    {
      "cell_type": "markdown",
      "metadata": {
        "id": "FTX-Fvb28GGc"
      },
      "source": [
        "------"
      ]
    },
    {
      "cell_type": "markdown",
      "metadata": {
        "id": "8tdBEUuy8GGe"
      },
      "source": [
        "## 4.함수를 이용하여 알고리즘 만들기"
      ]
    },
    {
      "cell_type": "markdown",
      "metadata": {
        "id": "A50BCkk98GGe"
      },
      "source": [
        "### **[함수 & 모듈]**"
      ]
    },
    {
      "cell_type": "code",
      "execution_count": null,
      "metadata": {
        "id": "3gNw75bI8GGe"
      },
      "outputs": [],
      "source": [
        "def nSum(a, b):\n",
        "    c = a + b\n",
        "    return c\n",
        "\n",
        "nSum(50, 3)"
      ]
    },
    {
      "cell_type": "markdown",
      "metadata": {
        "id": "ZH2oJDOzmgta"
      },
      "source": [
        "####  함수의 구조\n",
        "매개변수와 리턴값에 따른 함수의 유형 예"
      ]
    },
    {
      "cell_type": "markdown",
      "metadata": {
        "id": "ZVu_uCmBmwX9"
      },
      "source": [
        "- 매개변수(X), 리턴값(X)"
      ]
    },
    {
      "cell_type": "code",
      "execution_count": null,
      "metadata": {
        "id": "PhoFdGdpmg2i"
      },
      "outputs": [],
      "source": [
        "def func():\n",
        "    print('안녕하세요!')\n",
        "\n",
        "print( func() )"
      ]
    },
    {
      "cell_type": "markdown",
      "metadata": {
        "id": "rYJvu1mKm1lA"
      },
      "source": [
        "- 매개변수(X), 리턴값(O)"
      ]
    },
    {
      "cell_type": "code",
      "execution_count": null,
      "metadata": {
        "id": "RtmltcdOm1sg"
      },
      "outputs": [],
      "source": [
        "def func():\n",
        "    print('안녕하세요!')\n",
        "    return '처리완료!'\n",
        "\n",
        "print( func() )"
      ]
    },
    {
      "cell_type": "markdown",
      "metadata": {
        "id": "kAiXc3qom1zq"
      },
      "source": [
        "- 매개변수(O), 리턴값(X)"
      ]
    },
    {
      "cell_type": "code",
      "execution_count": null,
      "metadata": {
        "id": "mdneVBp_m16L"
      },
      "outputs": [],
      "source": [
        "def func(a, b):\n",
        "    print('덧셈: %d + %d = %d' % (a, b, a+b))\n",
        "\n",
        "print( func(5, 7) )"
      ]
    },
    {
      "cell_type": "markdown",
      "metadata": {
        "id": "UWx5mc2Bm2Ah"
      },
      "source": [
        "- 매개변수(O), 리턴값(O)"
      ]
    },
    {
      "cell_type": "code",
      "execution_count": null,
      "metadata": {
        "id": "u40Eqnc1m2IB"
      },
      "outputs": [],
      "source": [
        "def func(a, b):\n",
        "    print('덧셈: %d + %d = %d' % (a, b, a+b))\n",
        "    return a+b\n",
        "\n",
        "print( func(5, 7) )"
      ]
    },
    {
      "cell_type": "markdown",
      "metadata": {
        "id": "Oq6XLdiqm9lV"
      },
      "source": [
        "### 실습문제 : 암스트롱수 판별 함수\n",
        "다음 조건을 참고하여 암스트롱수를 구하는 함수를 만들어 출력하는 프로그램을 만들어 보세요.\n",
        "- **암스트롱수** : 세 자리의 정수 중에서 각 자리의 수를 세 제곱한 수의 합과 자신이 같은 수"
      ]
    },
    {
      "cell_type": "code",
      "execution_count": null,
      "metadata": {
        "id": "DvFLshFqm9t8"
      },
      "outputs": [],
      "source": [
        "def is_armstringNumber(N):\n",
        "\n",
        "\n",
        "\n",
        "\n",
        "for i in range(100, 1000):\n",
        "    if is_armstringNumber(i):\n",
        "        print(\"[%i] is armstrong number\" % i)"
      ]
    },
    {
      "cell_type": "markdown",
      "metadata": {
        "id": "Kvzu_J_a8GGf"
      },
      "source": [
        "### 실습문제 : 환전 계산 함수\n",
        "아래 조건을 만족하는 환전계산 함수를 만들어 보세요."
      ]
    },
    {
      "cell_type": "code",
      "execution_count": null,
      "metadata": {
        "id": "x1jdgfzq8GGf",
        "scrolled": true
      },
      "outputs": [],
      "source": [
        "def moneyExchange(m, c):\n",
        "\n",
        "\n",
        "\n",
        "countrys = {'미국':['달러', 1182.5],\n",
        "            '중국':['위안', 169.22],\n",
        "            '유럽':['유로', 1286.74],\n",
        "            '일본':['엔', 1078.14]}\n",
        "money = int(input('환전 금액(원)을 입력하세요: '))\n",
        "country = input('국가를 입력하세요: ')\n",
        "print('-'*30)\n",
        "moneyExchange(money, country)"
      ]
    },
    {
      "cell_type": "markdown",
      "source": [
        "\n",
        "\n",
        "---\n",
        "\n"
      ],
      "metadata": {
        "id": "jcBxboxauPTJ"
      }
    },
    {
      "cell_type": "markdown",
      "metadata": {
        "id": "Ajjvg18_8GGg"
      },
      "source": [
        "### 5.ChatGPT와 페어프로그래밍하기"
      ]
    },
    {
      "cell_type": "markdown",
      "source": [
        "### 실습문제 : 영어 단어장 만들기\n",
        "아래 조건을 만족시키는 <영어단어장 만들기> 프로그램을 만들어 보세요.\n",
        "\n",
        "영단어는 key, 그의 뜻은 value 로 두는 dictionary 를 만드세요.<br>\n",
        "<메뉴>\n",
        " - 1. 단어 등록\n",
        " - 2. 단어 검색\n",
        " - 3. 단어 삭제\n",
        " - 4. 모든 단어 보기\n",
        " - 0. 종료하기\n",
        "\n",
        "1. 단어 등록 <br>\n",
        "    새 영단어와 그의 뜻을 입력 받고 dictionary 에 추가합니다.\n",
        "\n",
        "2. 단어 검색<br>\n",
        "    영단어를 입력 받아 그의 뜻을 출력합니다.<br>\n",
        "    미등록된 단어인 경우 '미등록 단어'를 출력합니다.\n",
        "    \n",
        "3. 단어 삭제<br>\n",
        "    영단어를 입력 받아 단어장에서 해당 단어를 삭제한다.<br>\n",
        "    미등록된 단어인 경우 '미등록 단어'를 출력합니다\n",
        "    \n",
        "4. 모든 단어 보기<br>\n",
        "    현재 등록되어 있는 모든 단어와 뜻을 출력합니다.\n",
        "\n",
        "0. 종료하기"
      ],
      "metadata": {
        "id": "LgP7QlUCtw9A"
      }
    },
    {
      "cell_type": "code",
      "source": [
        "menu = '''---선택메뉴--\n",
        "1. 단어 등록\n",
        "2. 단어 검색\n",
        "3. 단어 삭제\n",
        "4. 모든 단어 보기\n",
        "0. 종료하기\n",
        "------------------------------'''\n",
        "\n",
        "# 빈 딕셔너리를 만든다. (반복문 안에 넣지 않는다!)\n",
        "wordbook = {}\n",
        "\n",
        "def addBook():\n",
        "\n",
        "\n",
        "def searchBook():\n",
        "\n",
        "\n",
        "def deleteBook():\n",
        "\n",
        "\n",
        "def showAllBook():\n",
        "\n",
        "\n"
      ],
      "metadata": {
        "id": "eZLiY8m-txGd"
      },
      "execution_count": null,
      "outputs": []
    },
    {
      "cell_type": "markdown",
      "metadata": {
        "id": "SD7IuCtyEfxZ"
      },
      "source": [
        "\n",
        "\n",
        "---\n",
        "THE END\n",
        "\n"
      ]
    },
    {
      "cell_type": "markdown",
      "metadata": {
        "id": "RQoDVEJ38GGg"
      },
      "source": [
        "------"
      ]
    }
  ],
  "metadata": {
    "colab": {
      "provenance": [],
      "include_colab_link": true
    },
    "kernelspec": {
      "display_name": "Python 3 (ipykernel)",
      "language": "python",
      "name": "python3"
    },
    "language_info": {
      "codemirror_mode": {
        "name": "ipython",
        "version": 3
      },
      "file_extension": ".py",
      "mimetype": "text/x-python",
      "name": "python",
      "nbconvert_exporter": "python",
      "pygments_lexer": "ipython3",
      "version": "3.10.9"
    }
  },
  "nbformat": 4,
  "nbformat_minor": 0
}